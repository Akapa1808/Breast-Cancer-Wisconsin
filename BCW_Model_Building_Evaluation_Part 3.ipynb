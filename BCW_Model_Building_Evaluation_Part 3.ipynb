{
 "cells": [
  {
   "cell_type": "markdown",
   "metadata": {},
   "source": [
    "---\n",
    "\n",
    "_You are currently looking at **version 1.5** of this notebook. To download notebooks and datafiles, as well as get help on Jupyter notebooks in the Coursera platform, visit the [Jupyter Notebook FAQ](https://www.coursera.org/learn/python-machine-learning/resources/bANLa) course resource._\n",
    "\n",
    "---"
   ]
  },
  {
   "cell_type": "markdown",
   "metadata": {},
   "source": [
    "## Blood Transfusion Model"
   ]
  },
  {
   "cell_type": "markdown",
   "metadata": {},
   "source": [
    "First, run the following block to set up the variables needed for later sections."
   ]
  },
  {
   "cell_type": "markdown",
   "metadata": {},
   "source": [
    "## Setting the working environment "
   ]
  },
  {
   "cell_type": "code",
   "execution_count": 59,
   "metadata": {},
   "outputs": [],
   "source": [
    "import os\n",
    "path= 'E:/Shahid/Projects/Dengue Project/Python_Dengue_Project/BTDone/Code'\n",
    "os.chdir(path)"
   ]
  },
  {
   "cell_type": "code",
   "execution_count": 60,
   "metadata": {},
   "outputs": [],
   "source": [
    "import platform\n",
    "import warnings\n",
    "warnings.filterwarnings('ignore')\n",
    "import numpy as np\n",
    "import pandas as pd\n",
    "#from imblearn.over_sampling import SMOTE\n",
    "#from tabulate import tabulate\n",
    "import itertools\n",
    "import seaborn as sns\n",
    "from copy import copy\n",
    "from sklearn.externals import joblib\n",
    "from sklearn.feature_selection import VarianceThreshold\n",
    "from sklearn.feature_selection import SelectPercentile, f_classif\n",
    "from sklearn.linear_model import LogisticRegression\n",
    "from sklearn.ensemble import GradientBoostingClassifier\n",
    "from sklearn.tree import DecisionTreeClassifier\n",
    "from sklearn.ensemble import RandomForestClassifier\n",
    "from sklearn.ensemble import ExtraTreesClassifier, GradientBoostingClassifier\n",
    "from sklearn.naive_bayes import BernoulliNB\n",
    "from sklearn.preprocessing import MaxAbsScaler\n",
    "from sklearn.preprocessing import Normalizer, RobustScaler\n",
    "import sklearn\n",
    "from sklearn.externals import joblib\n",
    "from sklearn.feature_selection import RFE\n",
    "from sklearn.pipeline import make_pipeline\n",
    "from sklearn.preprocessing import PolynomialFeatures\n",
    "from sklearn.preprocessing import Normalizer, FunctionTransformer\n",
    "from sklearn.kernel_approximation import Nystroem\n",
    "from sklearn.model_selection import train_test_split\n",
    "#import sklearn.model_selection.StratifiedKFold\n",
    "from sklearn import metrics\n",
    "from sklearn.metrics import roc_auc_score, roc_curve, classification_report\n",
    "from sklearn.metrics import confusion_matrix, accuracy_score, mean_squared_error\n",
    "from sklearn.metrics import f1_score, precision_score, recall_score, log_loss, r2_score\n",
    "from sklearn.metrics import precision_recall_curve\n",
    "from sklearn.svm import SVC\n",
    "from sklearn.pipeline import make_pipeline, make_union\n",
    "from sklearn.preprocessing import MinMaxScaler\n",
    "from sklearn.preprocessing import StandardScaler"
   ]
  },
  {
   "cell_type": "code",
   "execution_count": 3,
   "metadata": {},
   "outputs": [
    {
     "name": "stdout",
     "output_type": "stream",
     "text": [
      "Solving environment: ...working... failed\n"
     ]
    },
    {
     "name": "stderr",
     "output_type": "stream",
     "text": [
      "\n",
      "PackagesNotFoundError: The following packages are not available from current channels:\n",
      "\n",
      "  - imblearn\n",
      "\n",
      "Current channels:\n",
      "\n",
      "  - https://conda.anaconda.org/anaconda/win-64\n",
      "  - https://conda.anaconda.org/anaconda/noarch\n",
      "  - https://repo.anaconda.com/pkgs/main/win-64\n",
      "  - https://repo.anaconda.com/pkgs/main/noarch\n",
      "  - https://repo.anaconda.com/pkgs/free/win-64\n",
      "  - https://repo.anaconda.com/pkgs/free/noarch\n",
      "  - https://repo.anaconda.com/pkgs/r/win-64\n",
      "  - https://repo.anaconda.com/pkgs/r/noarch\n",
      "  - https://repo.anaconda.com/pkgs/pro/win-64\n",
      "  - https://repo.anaconda.com/pkgs/pro/noarch\n",
      "  - https://repo.anaconda.com/pkgs/msys2/win-64\n",
      "  - https://repo.anaconda.com/pkgs/msys2/noarch\n",
      "\n",
      "To search for alternate channels that may provide the conda package you're\n",
      "looking for, navigate to\n",
      "\n",
      "    https://anaconda.org\n",
      "\n",
      "and use the search bar at the top of the page.\n",
      "\n",
      "\n"
     ]
    }
   ],
   "source": [
    "# notice: installing imblearn might takes a few minutes\n",
    "!conda install -c anaconda imblearn -y"
   ]
  },
  {
   "cell_type": "code",
   "execution_count": null,
   "metadata": {},
   "outputs": [],
   "source": [
    "# notice: installing tabulate might takes a few minutes\n",
    "!conda install -c anaconda tabulate -y"
   ]
  },
  {
   "cell_type": "markdown",
   "metadata": {},
   "source": [
    "### 1. The LoadData routiine is used to read dataset, and create training and testing datasets"
   ]
  },
  {
   "cell_type": "code",
   "execution_count": 61,
   "metadata": {},
   "outputs": [],
   "source": [
    "def LoadData():\n",
    "    global feature_names, response_name, n_features, model_full  \n",
    "    pth ='isBTDoneAtAdmission2.csv'\n",
    "    model_full = pd.read_csv(pth)\n",
    "    response_name = ['isBTDone']\n",
    "    \n",
    "    # Features for linear model\n",
    "    # No of columns = 380\n",
    "    #feature_names =['AgeGrp','isAge_01_20','isAge_20_40','isAge_40_60','isAgeGt60','Gender','maritalStatusWithoutFamily','maritalStatusWithFamily','maritalStatusUnknown','isResCity','admissionTypeER','admissionTypeDirect','isPrvsAdmn','isChannelCorporate','isChannelCashCd','isChannelPSU','isChannelTPA','isAssistedVentilation','AlbuminFirstH','AlbuminFirstL','AlbuminFirstN','SGPT_ALTFirstH','SGPT_ALTFirstL','SGPT_ALTFirstN','SGOT_ASTFirstH','SGOT_ASTFirstL','SGOT_ASTFirstN','bilirubinDirectFirstH','bilirubinDirectFirstL','bilirubinDirectFirstN','bilirubinIndirectFirstH','bilirubinIndirectFirstL','bilirubinIndirectFirstN','bilirubinTotalFirstH','bilirubinTotalFirstL','bilirubinTotalFirstN','CreatinineFirstH','CreatinineFirstL','CreatinineFirstN','EosinophilsFirstH','EosinophilsFirstL','EosinophilsFirstN','GlobulinFirstH','GlobulinFirstL','GlobulinFirstN','HaematocritFirstH','HaematocritFirstL','HaematocritFirstN','HaemoglobinFirstH','HaemoglobinFirstL','HaemoglobinFirstN','LymphocytesFirstH','LymphocytesFirstL','LymphocytesFirstN','MCHCFirstH','MCHCFirstL','MCHCFirstN','MCHFirstH','MCHFirstL','MCHFirstN','MCVFirstH','MCVFirstL','MCVFirstN','MonocytesFirstH','MonocytesFirstL','MonocytesFirstN','NeutrophilsFirstH','NeutrophilsFirstL','NeutrophilsFirstN','PotassiumFirstH','PotassiumFirstL','PotassiumFirstN','rbcCountFirstH','rbcCountFirstL','rbcCountFirstN','RDWFirstH','RDWFirstL','RDWFirstN','SodiumFirstH','SodiumFirstL','SodiumFirstN','TLCFirstH','TLCFirstL','TLCFirstN','TotalProteinFirstH','TotalProteinFirstL','TotalProteinFirstN','AlbuminMinH','AlbuminMinL','AlbuminMinN','SGPT_ALTMinH','SGPT_ALTMinL','SGPT_ALTMinN','SGOT_ASTMinH','SGOT_ASTMinL','SGOT_ASTMinN','bilirubinDirectMinH','bilirubinDirectMinL','bilirubinDirectMinN','bilirubinIndirectMinH','bilirubinIndirectMinL','bilirubinIndirectMinN','bilirubinTotalMinH','bilirubinTotalMinL','bilirubinTotalMinN','CreatinineMinH','CreatinineMinL','CreatinineMinN','EosinophilsMinH','EosinophilsMinL','EosinophilsMinN','GlobulinMinH','GlobulinMinL','GlobulinMinN','HaematocritMinH','HaematocritMinL','HaematocritMinN','HaemoglobinMinH','HaemoglobinMinL','HaemoglobinMinN','LymphocytesMinH','LymphocytesMinL','LymphocytesMinN','MCHCMinH','MCHCMinL','MCHCMinN','MCHMinH','MCHMinL','MCHMinN','MCVMinH','MCVMinL','MCVMinN','MonocytesMinH','MonocytesMinL','MonocytesMinN','NeutrophilsMinH','NeutrophilsMinL','NeutrophilsMinN','PotassiumMinH','PotassiumMinL','PotassiumMinN','rbcCountMinH','rbcCountMinL','rbcCountMinN','RDWMinH','RDWMinL','RDWMinN','SodiumMinH','SodiumMinL','SodiumMinN','TLCMinH','TLCMinL','TLCMinN','TotalProteinMinH','TotalProteinMinL','TotalProteinMinN','AlbuminMaxH','AlbuminMaxL','AlbuminMaxN','SGPT_ALTMaxH','SGPT_ALTMaxL','SGPT_ALTMaxN','SGOT_ASTMaxH','SGOT_ASTMaxL','SGOT_ASTMaxN','bilirubinDirectMaxH','bilirubinDirectMaxL','bilirubinDirectMaxN','bilirubinIndirectMaxH','bilirubinIndirectMaxL','bilirubinIndirectMaxN','bilirubinTotalMaxH','bilirubinTotalMaxL','bilirubinTotalMaxN','CreatinineMaxH','CreatinineMaxL','CreatinineMaxN','EosinophilsMaxH','EosinophilsMaxL','EosinophilsMaxN','GlobulinMaxH','GlobulinMaxL','GlobulinMaxN','HaematocritMaxH','HaematocritMaxL','HaematocritMaxN','HaemoglobinMaxH','HaemoglobinMaxL','HaemoglobinMaxN','LymphocytesMaxH','LymphocytesMaxL','LymphocytesMaxN','MCHCMaxH','MCHCMaxL','MCHCMaxN','MCHMaxH','MCHMaxL','MCHMaxN','MCVMaxH','MCVMaxL','MCVMaxN','MonocytesMaxH','MonocytesMaxL','MonocytesMaxN','NeutrophilsMaxH','NeutrophilsMaxL','NeutrophilsMaxN','PotassiumMaxH','PotassiumMaxL','PotassiumMaxN','rbcCountMaxH','rbcCountMaxL','rbcCountMaxN','RDWMaxH','RDWMaxL','RDWMaxN','SodiumMaxH','SodiumMaxL','SodiumMaxN','TLCMaxH','TLCMaxL','TLCMaxN','TotalProteinMaxH','TotalProteinMaxL','TotalProteinMaxN','AlbuminAvgH','AlbuminAvgL','AlbuminAvgN','SGPT_ALTAvgH','SGPT_ALTAvgL','SGPT_ALTAvgN','SGOT_ASTAvgH','SGOT_ASTAvgL','SGOT_ASTAvgN','bilirubinDirectAvgH','bilirubinDirectAvgL','bilirubinDirectAvgN','bilirubinIndirectAvgH','bilirubinIndirectAvgL','bilirubinIndirectAvgN','bilirubinTotalAvgH','bilirubinTotalAvgL','bilirubinTotalAvgN','CreatinineAvgH','CreatinineAvgL','CreatinineAvgN','EosinophilsAvgH','EosinophilsAvgL','EosinophilsAvgN','GlobulinAvgH','GlobulinAvgL','GlobulinAvgN','HaematocritAvgH','HaematocritAvgL','HaematocritAvgN','HaemoglobinAvgH','HaemoglobinAvgL','HaemoglobinAvgN','LymphocytesAvgH','LymphocytesAvgL','LymphocytesAvgN','MCHCAvgH','MCHCAvgL','MCHCAvgN','MCHAvgH','MCHAvgL','MCHAvgN','MCVAvgH','MCVAvgL','MCVAvgN','MonocytesAvgH','MonocytesAvgL','MonocytesAvgN','NeutrophilsAvgH','NeutrophilsAvgL','NeutrophilsAvgN','PotassiumAvgH','PotassiumAvgL','PotassiumAvgN','rbcCountAvgH','rbcCountAvgL','rbcCountAvgN','RDWAvgH','RDWAvgL','RDWAvgN','SodiumAvgH','SodiumAvgL','SodiumAvgN','TLCAvgH','TLCAvgL','TLCAvgN','TotalProteinAvgH','TotalProteinAvgL','TotalProteinAvgN','AlbuminLastH','AlbuminLastL','AlbuminLastN','SGPT_ALTLastH','SGPT_ALTLastL','SGPT_ALTLastN','SGOT_ASTLastH','SGOT_ASTLastL','SGOT_ASTLastN','bilirubinDirectLastH','bilirubinDirectLastL','bilirubinDirectLastN','bilirubinIndirectLastH','bilirubinIndirectLastL','bilirubinIndirectLastN','bilirubinTotalLastH','bilirubinTotalLastL','bilirubinTotalLastN','CreatinineLastH','CreatinineLastL','CreatinineLastN','EosinophilsLastH','EosinophilsLastL','EosinophilsLastN','GlobulinLastH','GlobulinLastL','GlobulinLastN','HaematocritLastH','HaematocritLastL','HaematocritLastN','HaemoglobinLastH','HaemoglobinLastL','HaemoglobinLastN','LymphocytesLastH','LymphocytesLastL','LymphocytesLastN','MCHCLastH','MCHCLastL','MCHCLastN','MCHLastH','MCHLastL','MCHLastN','MCVLastH','MCVLastL','MCVLastN','MonocytesLastH','MonocytesLastL','MonocytesLastN','NeutrophilsLastH','NeutrophilsLastL','NeutrophilsLastN','PotassiumLastH','PotassiumLastL','PotassiumLastN','rbcCountLastH','rbcCountLastL','rbcCountLastN','RDWLastH','RDWLastL','RDWLastN','SodiumLastH','SodiumLastL','SodiumLastN','TLCLastH','TLCLastL','TLCLastN','TotalProteinLastH','TotalProteinLastL','TotalProteinLastN','thoromboCytopeniaFirstSevere','thoromboCytopeniaFirstModerate','thoromboCytopeniaFirstMild','noThoromboCytopeniaFirst','thoromboCytopeniaMinSevere','thoromboCytopeniaMinModerate','thoromboCytopeniaMinMild','noThoromboCytopeniaMin','thoromboCytopeniaMaxSevere','thoromboCytopeniaMaxModerate','thoromboCytopeniaMaxMild','noThoromboCytopeniaMax','thoromboCytopeniaAvgSevere','thoromboCytopeniaAvgModerate','thoromboCytopeniaAvgxMild','noThoromboCytopeniaAvg','thoromboCytopeniaLastSevere','thoromboCytopeniaLastModerate','thoromboCytopeniaLastxMild','noThoromboCytopeniaLast','Pleural_effusion','Left_effusion','Right_effusion','Bilateral_effusion','Abdominal_free_fluid']\n",
    "    \n",
    "    # Features for non-linear model\n",
    "    # No of columns = 61\n",
    "    feature_names = ['Gender','maritalStatusWithoutFamily','maritalStatusWithFamily','maritalStatusUnknown','isResCity','admissionTypeER','admissionTypeDirect','isPrvsAdmn','isChannelCorporate','isChannelCashCd','isChannelPSU','isChannelTPA','isAssistedVentilation','thoromboCytopeniaFirstSevere','thoromboCytopeniaFirstModerate','thoromboCytopeniaFirstMild','noThoromboCytopeniaFirst','thoromboCytopeniaMinSevere','thoromboCytopeniaMinModerate','thoromboCytopeniaMinMild','noThoromboCytopeniaMin','thoromboCytopeniaMaxSevere','thoromboCytopeniaMaxModerate','thoromboCytopeniaMaxMild','noThoromboCytopeniaMax','thoromboCytopeniaAvgSevere','thoromboCytopeniaAvgModerate','thoromboCytopeniaAvgxMild','noThoromboCytopeniaAvg','Pleural_effusion','Left_effusion','Right_effusion','Bilateral_effusion','Abdominal_free_fluid','AlbuminAtAdm','CreatinineAtAdm','EosinophilsAtAdm','GlobulinAtAdm','HaemoglobinAtAdm','LymphocytesAtAdm','MCHAtAdm','MCHCAtAdm','MCVAtAdm','MonocytesAtAdm','NeutrophilsAtAdm','PlateletCountAtAdm','PotassiumAtAdm','RBC.CountAtAdm','RDWAtAdm','SodiumAtAdm','TotalProteinAtAdm','bilirubinDirectAtAdm','bilirubinIndirectAtAdm','bilirubinTotalAtAdm','gammaGlutamylTransferaseAtAdm','HaematocritAtAdm','SGOT_ASTAtAdm','SGPT_ALTAtAdm','TLCAtAdm','Age'] \n",
    "    # Data Type 1\n",
    "    #feature_names = ['EosinophilsMinN','HaematocritMaxL','HaemoglobinAvgN','HaemoglobinLastL','LymphocytesAvgH','LymphocytesFirstN','LymphocytesLastH','LymphocytesMaxH','LymphocytesMinH','LymphocytesMinL','MCHCMaxN','MonocytesFirstN','MonocytesMinN','PotassiumAvgN','PotassiumMinN','RDWAvgH','RDWMinN','SGOT_ASTFirstH','SGOT_ASTMaxH','admissionTypeDirect','bilirubinDirectAvgN','bilirubinDirectLastN','bilirubinIndirectLastN','bilirubinIndirectMinN','bilirubinTotalFirstH','isBTDone','isResCity','maritalStatusWithFamily','maritalStatusWithoutFamily']\n",
    "    # Data type 2 -63 vars\n",
    "    #feature_names = ['Gender','maritalStatusWithoutFamily','maritalStatusWithFamily','maritalStatusUnknown','isResCity','admissionTypeER','admissionTypeDirect','isPrvsAdmn','isChannelCorporate','isChannelCashCd','isChannelPSU','isChannelTPA','isAssistedVentilation','isBTDone','thoromboCytopeniaFirstSevere','thoromboCytopeniaFirstModerate','thoromboCytopeniaFirstMild','noThoromboCytopeniaFirst','thoromboCytopeniaMinSevere','thoromboCytopeniaMinModerate','thoromboCytopeniaMinMild','noThoromboCytopeniaMin','thoromboCytopeniaMaxSevere','thoromboCytopeniaMaxModerate','thoromboCytopeniaMaxMild','noThoromboCytopeniaMax','thoromboCytopeniaAvgSevere','thoromboCytopeniaAvgModerate','thoromboCytopeniaAvgxMild','noThoromboCytopeniaAvg','Pleural_effusion','Left_effusion','Right_effusion','Bilateral_effusion','Abdominal_free_fluid','AlbuminAtAdm','CreatinineAtAdm','EosinophilsAtAdm','GlobulinAtAdm','HaemoglobinAtAdm','LymphocytesAtAdm','MCHAtAdm','MCHCAtAdm','MCVAtAdm','MonocytesAtAdm','NeutrophilsAtAdm','PlateletCountAtAdm','PotassiumAtAdm','RBC.CountAtAdm','RDWAtAdm','SodiumAtAdm','TotalProteinAtAdm','bilirubinDirectAtAdm','bilirubinIndirectAtAdm','bilirubinTotalAtAdm','gammaGlutamylTransferaseAtAdm','HaematocritAtAdm','SGOT_ASTAtAdm','SGPT_ALTAtAdm','TLCAtAdm','Age']\n",
    "    # Data type 1 : IV: 116 (64)\n",
    "    #feature_names = ['admissionTypeDirect',\t'admissionTypeER',\t'CreatinineAvgH',\t'CreatinineFirstH',\t'CreatinineLastH',\t'CreatinineMaxH',\t'CreatinineMinH',\t'EosinophilsAvgL',\t'EosinophilsAvgN',\t'EosinophilsFirstL',\t'EosinophilsFirstN',\t'EosinophilsLastL',\t'EosinophilsLastN',\t'EosinophilsMaxL',\t'EosinophilsMaxN',\t'EosinophilsMinL',\t'EosinophilsMinN',\t'GlobulinLastN',\t'GlobulinMinN',\t'HaematocritAvgL',\t'HaematocritAvgN',\t'HaematocritFirstL',\t'HaematocritFirstN',\t'HaematocritLastL',\t'HaematocritLastN',\t'HaematocritMaxL',\t'HaematocritMaxN',\t'HaematocritMinL',\t'HaematocritMinN',\t'HaemoglobinAvgL',\t'HaemoglobinAvgN',\t'HaemoglobinFirstL',\t'HaemoglobinFirstN',\t'HaemoglobinLastL',\t'HaemoglobinLastN',\t'HaemoglobinMaxL',\t'HaemoglobinMaxN',\t'HaemoglobinMinL',\t'HaemoglobinMinN',\t'isAssistedVentilation',\t'isBTDone',\t'isPrvsAdmn',\t'LymphocytesAvgH',\t'LymphocytesAvgL',\t'LymphocytesFirstH',\t'LymphocytesFirstL',\t'LymphocytesLastH',\t'LymphocytesLastL',\t'LymphocytesLastN',\t'LymphocytesMaxH',\t'LymphocytesMaxL',\t'LymphocytesMaxN',\t'LymphocytesMinH',\t'LymphocytesMinL',\t'maritalStatusUnknown',\t'maritalStatusWithoutFamily',\t'MonocytesFirstL',\t'NeutrophilsAvgH',\t'NeutrophilsAvgL',\t'NeutrophilsAvgN',\t'NeutrophilsFirstH',\t'NeutrophilsFirstN',\t'NeutrophilsLastH',\t'NeutrophilsLastN',\t'NeutrophilsMaxH',\t'NeutrophilsMaxL',\t'NeutrophilsMaxN',\t'NeutrophilsMinH',\t'NeutrophilsMinN',\t'noThoromboCytopeniaFirst',\t'noThoromboCytopeniaLast',\t'noThoromboCytopeniaMin',\t'Pleural_effusion',\t'rbcCountAvgL',\t'rbcCountAvgN',\t'rbcCountFirstL',\t'rbcCountFirstN',\t'rbcCountLastL',\t'rbcCountLastN',\t'rbcCountMaxL',\t'rbcCountMaxN',\t'rbcCountMinL',\t'rbcCountMinN',\t'RDWAvgH',\t'RDWAvgN',\t'RDWFirstH',\t'RDWFirstN',\t'RDWLastH',\t'RDWLastN',\t'RDWMaxH',\t'RDWMaxN',\t'RDWMinH',\t'RDWMinN',\t'Right_effusion',\t'SGOT_ASTAvgH',\t'SGOT_ASTAvgN',\t'SGOT_ASTFirstH',\t'SGOT_ASTFirstN',\t'SGOT_ASTLastH',\t'SGOT_ASTLastN',\t'SGOT_ASTMaxH',\t'SGOT_ASTMaxN',\t'SGOT_ASTMinH',\t'SGOT_ASTMinN',\t'SGPT_ALTFirstL',\t'SGPT_ALTMinH',\t'SGPT_ALTMinL',\t'SodiumMaxH',\t'thoromboCytopeniaAvgxMild',\t'thoromboCytopeniaFirstMild',\t'thoromboCytopeniaLastxMild',\t'thoromboCytopeniaMaxMild',\t'thoromboCytopeniaMinMild',\t'TLCAvgH',\t'TLCFirstH',\t'TLCMaxH']\n",
    "    # # Data type 1 : Chi Square + Domain Knowledge =36\n",
    "    #feature_names =['admissionTypeDirect',\t'admissionTypeER',\t'AlbuminAvgH',\t'bilirubinIndirectFirstL',\t'CreatinineMaxH',\t'EosinophilsMinL',\t'EosinophilsMinN',\t'HaematocritFirstL',\t'HaematocritFirstN',\t'HaemoglobinMinL',\t'HaemoglobinMinN',\t'isAssistedVentilation',\t'isBTDone',\t'isPrvsAdmn',\t'Left_effusion',\t'LymphocytesMinH',\t'LymphocytesMinL',\t'maritalStatusUnknown',\t'maritalStatusWithoutFamily',\t'NeutrophilsAvgH',\t'noThoromboCytopeniaFirst',\t'Pleural_effusion',\t'PotassiumMinL',\t'rbcCountMinL',\t'rbcCountMinN',\t'RDWLastH',\t'RDWLastN',\t'Right_effusion',\t'SGOT_ASTAvgH',\t'SGOT_ASTAvgN',\t'SGPT_ALTMinH',\t'SGPT_ALTMinL',\t'SodiumMaxH',\t'thoromboCytopeniaFirstMild',\t'TLCMaxH',\t'TLCMaxN']\n",
    "     # Data type 1 : All = 135\n",
    "    #feature_names = ['admissionTypeDirect','admissionTypeER','AlbuminAvgH','AlbuminLastH',\t'AlbuminMinH','bilirubinIndirectAvgL','bilirubinIndirectFirstL','bilirubinIndirectLastH','bilirubinIndirectLastL','bilirubinIndirectLastN','bilirubinIndirectMaxL','bilirubinIndirectMinL','CreatinineAvgH','CreatinineFirstH','CreatinineLastH','CreatinineMaxH','CreatinineMinH','EosinophilsAvgL','EosinophilsAvgN','EosinophilsFirstL','EosinophilsFirstN','EosinophilsLastL','EosinophilsLastN','EosinophilsMaxL','EosinophilsMaxN','EosinophilsMinN','GlobulinLastL','GlobulinMinL','GlobulinMinN','HaematocritAvgL','HaematocritAvgN','HaematocritFirstL','HaematocritFirstN',\t'HaematocritLastL',\t'HaematocritLastN',\t'HaematocritMaxL',\t'HaematocritMaxN',\t'HaematocritMinL',\t'HaematocritMinN',\t'HaemoglobinAvgL',\t'HaemoglobinAvgN',\t'HaemoglobinFirstL',\t'HaemoglobinFirstN',\t'HaemoglobinLastL',\t'HaemoglobinLastN',\t'HaemoglobinMaxL',\t'HaemoglobinMaxN',\t'HaemoglobinMinL',\t'HaemoglobinMinN',\t'isAssistedVentilation',\t'isBTDone',\t'isPrvsAdmn',\t'Left_effusion',\t'LymphocytesAvgH',\t'LymphocytesAvgL',\t'LymphocytesAvgN',\t'LymphocytesFirstH',\t'LymphocytesFirstL',\t'LymphocytesLastH',\t'LymphocytesLastL',\t'LymphocytesLastN',\t'LymphocytesMaxH',\t'LymphocytesMaxL',\t'LymphocytesMaxN',\t'LymphocytesMinH',\t'LymphocytesMinL',\t'maritalStatusUnknown',\t'maritalStatusWithoutFamily',\t'MonocytesFirstL',\t'MonocytesFirstN',\t'MonocytesMinL',\t'NeutrophilsAvgH',\t'NeutrophilsAvgL',\t'NeutrophilsAvgN',\t'NeutrophilsFirstH',\t'NeutrophilsFirstN',\t'NeutrophilsLastH',\t'NeutrophilsLastN',\t'NeutrophilsMaxH',\t'NeutrophilsMaxL',\t'NeutrophilsMaxN',\t'NeutrophilsMinH',\t'NeutrophilsMinN',\t'noThoromboCytopeniaAvg',\t'noThoromboCytopeniaFirst',\t'noThoromboCytopeniaLast',\t'noThoromboCytopeniaMin',\t'Pleural_effusion',\t'PotassiumMinL',\t'rbcCountAvgL',\t'rbcCountAvgN',\t'rbcCountFirstL',\t'rbcCountFirstN',\t'rbcCountLastL',\t'rbcCountLastN',\t'rbcCountMaxL',\t'rbcCountMaxN',\t'rbcCountMinL',\t'rbcCountMinN',\t'RDWAvgH',\t'RDWAvgN',\t'RDWFirstH',\t'RDWFirstN',\t'RDWLastH',\t'RDWLastN',\t'RDWMaxH',\t'RDWMaxN',\t'RDWMinH',\t'RDWMinN',\t'Right_effusion',\t'SGOT_ASTAvgH',\t'SGOT_ASTAvgN',\t'SGOT_ASTFirstH',\t'SGOT_ASTFirstN',\t'SGOT_ASTLastH',\t'SGOT_ASTLastN',\t'SGOT_ASTMaxH','SGOT_ASTMaxN','SGOT_ASTMinH','SGOT_ASTMinN','SGPT_ALTFirstL','SGPT_ALTMinH','SGPT_ALTMinL','SodiumMaxH','thoromboCytopeniaAvgxMild','thoromboCytopeniaFirstMild','thoromboCytopeniaLastSevere','thoromboCytopeniaLastxMild','thoromboCytopeniaMaxMild','thoromboCytopeniaMinMild','TLCAvgH','TLCFirstH','TLCMaxH','TLCMaxN','TLCMinH']\n",
    "    # Feature Selection\n",
    "    \n",
    "    # 1. Feature selection with correlation\n",
    "    \n",
    "    # 2. Univariate feature selection SelectKBest, chi2\n",
    "    \n",
    "    # 3. Recursive feature elimination (RFE) with random forest\n",
    "    \n",
    "    # 4. Recursive feature elimination with cross validation(RFECV) with random forest\n",
    "    \n",
    "    # 5. Tree based feature selection with random forest classification\n",
    "    \n",
    "    # 6. ExtraTree based feature selection \n",
    "    \n",
    "    # 7. L1 feature selection (LinearSVC)\n",
    "    \n",
    "    # 8. Vote based feature selection\n",
    "    \n",
    "    n_features = len(feature_names)\n",
    "    mask = feature_names + response_name\n",
    "\n",
    "    model_data = model_full[mask]\n",
    "    #print('Model dataset:\\n', model_data.head(5))\n",
    "    # print('\\nDescription of model dataset:\\n', model_data[feature_names].describe(include='all'))\n",
    "\n",
    "    # Correlation_plot(model)\n",
    "\n",
    "    X = model_data[feature_names].values\n",
    "    y = model_data[response_name].values.ravel()\n",
    "    \n",
    "    #--------------------------------------------------------------------------------\n",
    "    #Synthetic Minority Oversampling Technique\n",
    "\n",
    "    #sm = SMOTE(random_state=12)\n",
    "    #X_resampled, y_resampled = sm.fit_sample(X, y)\n",
    "\n",
    "#    X_train, X_test, y_train, y_test = train_test_split(X_resampled,\n",
    "#                                                        y_resampled,\n",
    "#                                                        test_size = 0.30,\n",
    "#                                                        random_state = 1234)\n",
    "    #----------------------------------------------------------------------------------\n",
    "    X_train, X_test, y_train, y_test = train_test_split(X,\n",
    "                                                        y,\n",
    "                                                        test_size = 0.3,\n",
    "                                                        random_state = 12345)\n",
    "    #print('Size of resampled data:')\n",
    "    #print(' train shape... ', X_train.shape, y_train.shape)\n",
    "    #print(' test shape.... ', X_test.shape, y_test.shape)\n",
    "\n",
    "    #return X_train, y_train, X_test, y_test, X_resampled, y_resampled\n",
    "    return X_train, y_train, X_test, y_test"
   ]
  },
  {
   "cell_type": "code",
   "execution_count": 11,
   "metadata": {},
   "outputs": [],
   "source": [
    "X_train, y_train, X_test, y_test = LoadData()"
   ]
  },
  {
   "cell_type": "code",
   "execution_count": 12,
   "metadata": {},
   "outputs": [
    {
     "name": "stdout",
     "output_type": "stream",
     "text": [
      "Size of data:\n",
      "The train data has 803 rows and 60 columns\n",
      "----------------------------\n",
      "The test data has 345 rows and 60 columns\n"
     ]
    }
   ],
   "source": [
    "print('Size of data:')\n",
    "print ('The train data has {0} rows and {1} columns'.format(X_train.shape[0],X_train.shape[1]))\n",
    "print ('----------------------------')\n",
    "print ('The test data has {0} rows and {1} columns'.format(X_test.shape[0],X_test.shape[1]))"
   ]
  },
  {
   "cell_type": "markdown",
   "metadata": {},
   "source": [
    "###  Plot the ROC_Curve and Precision-Recall curve. "
   ]
  },
  {
   "cell_type": "code",
   "execution_count": 13,
   "metadata": {},
   "outputs": [],
   "source": [
    "def Plot_ROC_Precision_Recall():\n",
    "    class_names = [0, 1]\n",
    "    fig, (left, right) = plt.subplots(nrows=1, ncols=2, figsize=(10, 5))\n",
    "\n",
    "    plt.subplot(1, 2, 1)\n",
    "    plt.plot([0, 1], [0, 1], 'k--')\n",
    "    plt.plot(false_positive_rate, true_positive_rate, color='darkorange', label='Random Forest')\n",
    "    plt.xlabel('False positive rate')\n",
    "    plt.ylabel('True positive rate')\n",
    "    plt.title('ROC curve (area = %0.7f)' % auc)\n",
    "    plt.legend(loc='best')\n",
    "\n",
    "    plt.subplot(1, 2, 2)\n",
    "    precision, recall, _ = precision_recall_curve(y_test, y_probabilities_success)\n",
    "\n",
    "    plt.step(recall, precision, color='b', alpha=0.2, where='post')\n",
    "    plt.fill_between(recall, precision, step='post', alpha=0.2, color='b')\n",
    "\n",
    "    plt.xlabel('Recall')\n",
    "    plt.ylabel('Precision')\n",
    "    plt.ylim([0.0, 1.05])\n",
    "    plt.xlim([0.0, 1.0])\n",
    "    plt.title('Precision-Recall curve: AP={0:0.2f}'.format(average_precision))\n",
    "\n",
    "    plt.tight_layout()\n",
    "    plt.show()"
   ]
  },
  {
   "cell_type": "markdown",
   "metadata": {},
   "source": [
    "### This routine is used to plot the predictor (a.k.a feature) importances. "
   ]
  },
  {
   "cell_type": "code",
   "execution_count": 14,
   "metadata": {},
   "outputs": [],
   "source": [
    "def Plot_Predictor_Importance(logisticRegression = True):\n",
    "    if(logisticRegression):\n",
    "        feature_importance = best_model.feature_importances_\n",
    "        feature_importance = 100.0 * (feature_importance / feature_importance.max())\n",
    "        sorted_idx = np.argsort(feature_importance)\n",
    "        y_pos = np.arange(sorted_idx.shape[0]) + .5\n",
    "        fig, ax = plt.subplots()\n",
    "        fig.set_size_inches(8, 5)\n",
    "        ax.barh(y_pos, feature_importance[sorted_idx], align='center', color='green', ecolor='black', height=0.5)\n",
    "        ax.set_yticks(y_pos)\n",
    "        ax.set_yticklabels(feature_names)\n",
    "        ax.invert_yaxis()\n",
    "        ax.set_xlabel('Relative Importance')\n",
    "        ax.set_title('Predictor Importance')\n",
    "        plt.show()"
   ]
  },
  {
   "cell_type": "markdown",
   "metadata": {},
   "source": [
    "### This routine is used to summarize the metrics for the model."
   ]
  },
  {
   "cell_type": "code",
   "execution_count": 15,
   "metadata": {},
   "outputs": [],
   "source": [
    "def Print_Model_Metrics():\n",
    "    true_negative  = cm[0, 0]\n",
    "    true_positive  = cm[1, 1]\n",
    "    false_negative = cm[1, 0]\n",
    "    false_positive = cm[0, 1]\n",
    "    total = true_negative + true_positive + false_negative + false_positive\n",
    "\n",
    "    accuracy_ = (true_positive + true_negative)/total\n",
    "    precision_ = (true_positive)/(true_positive + false_positive)\n",
    "    recall_ = (true_positive)/(true_positive + false_negative)\n",
    "    misclassification_rate = (false_positive + false_negative)/total\n",
    "    F1_ = (2*true_positive)/(2*true_positive + false_positive + false_negative)\n",
    "    assert accuracy == accuracy_, \"accuracy score does not agree\"\n",
    "    assert precision == precision_, \"precision score does not agree\"\n",
    "    assert recall == recall_, \"recall score does not agree\"\n",
    "    assert round(F1,6) == round(F1_,6), \"F1: \" + str(F1) + \" != F1_: \" + str(F1_)\n",
    "\n",
    "    header = [\"Metric\", \"Test\"]\n",
    "    table = [[\"accuracy\",               accuracy],\n",
    "             [\"precision\",              precision],\n",
    "             [\"recall\",                 recall],\n",
    "             [\"misclassification rate\", misclassification_rate],\n",
    "             [\"F1\",                     F1],\n",
    "             [\"r2\",                     r2],\n",
    "             [\"AUC\",                    auc],\n",
    "             [\"mse\",                    mse],\n",
    "             [\"logloss\",                logloss]\n",
    "            ]\n",
    "\n",
    "    print(tabulate(table, header, tablefmt=\"fancy_grid\"))"
   ]
  },
  {
   "cell_type": "markdown",
   "metadata": {},
   "source": [
    "### This routine plots the confusion matrix. "
   ]
  },
  {
   "cell_type": "code",
   "execution_count": 16,
   "metadata": {},
   "outputs": [],
   "source": [
    "def Plot_Confusion_Matrix():\n",
    "    cmap = plt.cm.Blues\n",
    "    plt.imshow(cm, interpolation='nearest', cmap=cmap)\n",
    "    title='Confusion matrix (on test data)'\n",
    "    classes = [0, 1]\n",
    "    plt.title(title)\n",
    "    plt.colorbar()\n",
    "    tick_marks = np.arange(len(classes))\n",
    "    plt.xticks(tick_marks, classes, rotation=0)\n",
    "    plt.yticks(tick_marks, classes)\n",
    "\n",
    "    thresh = cm.max() / 2.\n",
    "    for i, j in itertools.product(range(cm.shape[0]), range(cm.shape[1])):\n",
    "        plt.text(j, i, cm[i, j],\n",
    "                 horizontalalignment=\"center\",\n",
    "                 color=\"white\" if cm[i, j] > thresh else \"black\")\n",
    "\n",
    "    plt.tight_layout()\n",
    "    plt.ylabel('True label')\n",
    "    plt.xlabel('Predicted label')\n",
    "\n",
    "    c_report = classification_report(y_test, y_predicted_test)\n",
    "    print('\\nClassification report:\\n', c_report)\n",
    "\n",
    "    ntotal = len(y_test)\n",
    "    correct = y_test == y_predicted_test\n",
    "    numCorrect = sum(correct)\n",
    "    percent = round( (100.0*numCorrect)/ntotal, 6)\n",
    "    print(\"\\nCorrect classifications on test data: {0:d}/{1:d} {2:8.3f}%\".format(numCorrect,\n",
    "                                                                                 ntotal,\n",
    "                                                                                 percent))\n",
    "    prediction_score = 100.0*best_model.score(X_test, y_test)\n",
    "    assert (round(percent,3) == round(prediction_score, 3)), \"prediction score does not agree\""
   ]
  },
  {
   "cell_type": "code",
   "execution_count": 17,
   "metadata": {},
   "outputs": [],
   "source": [
    "def dataPreProc():\n",
    "    X_train, y_train, X_test, y_test = LoadData()\n",
    "    seed = 7\n",
    "    np.random.seed(seed)\n",
    "    # scaling data\n",
    "    scale = StandardScaler()\n",
    "    X_tr = scale.fit_transform(X_train)\n",
    "    X_te = scale.fit_transform(X_test)\n",
    "    return X_tr, X_te"
   ]
  },
  {
   "cell_type": "code",
   "execution_count": 18,
   "metadata": {},
   "outputs": [],
   "source": [
    "from datetime import datetime\n",
    "def timer(start_time=None):\n",
    "    if not start_time:\n",
    "        start_time = datetime.now()\n",
    "        return start_time\n",
    "    elif start_time:\n",
    "        thour, temp_sec = divmod((datetime.now() - start_time).total_seconds(), 3600)\n",
    "        tmin, tsec = divmod(temp_sec, 60)\n",
    "        print('\\n Time taken: %i hours %i minutes and %s seconds.' % (thour, tmin, round(tsec, 2)))"
   ]
  },
  {
   "cell_type": "code",
   "execution_count": 19,
   "metadata": {},
   "outputs": [],
   "source": [
    "def best_mdl():\n",
    "    print('\\n Best estimator:')\n",
    "    print(model.best_estimator_)\n",
    "    print('\\n Best score:')\n",
    "    print(model.best_score_ * 2 - 1)\n",
    "    print('\\n Best parameters:')\n",
    "    print(model.best_params_)\n",
    "    results = pd.DataFrame(model.cv_results_)\n",
    "    print('\\n CV results:')\n",
    "    print(results.head())\n",
    "    best_model = model_result.best_estimator_\n",
    "    return best_model"
   ]
  },
  {
   "cell_type": "markdown",
   "metadata": {},
   "source": [
    "### Exploratory Data Analysis"
   ]
  },
  {
   "cell_type": "code",
   "execution_count": 20,
   "metadata": {},
   "outputs": [],
   "source": [
    "import seaborn as sns\n",
    "import matplotlib.pyplot as plt\n",
    "%matplotlib inline"
   ]
  },
  {
   "cell_type": "code",
   "execution_count": 21,
   "metadata": {},
   "outputs": [
    {
     "data": {
      "text/html": [
       "<div>\n",
       "<style scoped>\n",
       "    .dataframe tbody tr th:only-of-type {\n",
       "        vertical-align: middle;\n",
       "    }\n",
       "\n",
       "    .dataframe tbody tr th {\n",
       "        vertical-align: top;\n",
       "    }\n",
       "\n",
       "    .dataframe thead th {\n",
       "        text-align: right;\n",
       "    }\n",
       "</style>\n",
       "<table border=\"1\" class=\"dataframe\">\n",
       "  <thead>\n",
       "    <tr style=\"text-align: right;\">\n",
       "      <th></th>\n",
       "      <th>RegistrationNo</th>\n",
       "      <th>Gender</th>\n",
       "      <th>maritalStatusWithoutFamily</th>\n",
       "      <th>maritalStatusWithFamily</th>\n",
       "      <th>maritalStatusUnknown</th>\n",
       "      <th>isResCity</th>\n",
       "      <th>admissionTypeER</th>\n",
       "      <th>admissionTypeDirect</th>\n",
       "      <th>isPrvsAdmn</th>\n",
       "      <th>isChannelCorporate</th>\n",
       "      <th>...</th>\n",
       "      <th>TotalProteinAtAdm</th>\n",
       "      <th>bilirubinDirectAtAdm</th>\n",
       "      <th>bilirubinIndirectAtAdm</th>\n",
       "      <th>bilirubinTotalAtAdm</th>\n",
       "      <th>gammaGlutamylTransferaseAtAdm</th>\n",
       "      <th>HaematocritAtAdm</th>\n",
       "      <th>SGOT_ASTAtAdm</th>\n",
       "      <th>SGPT_ALTAtAdm</th>\n",
       "      <th>TLCAtAdm</th>\n",
       "      <th>Age</th>\n",
       "    </tr>\n",
       "  </thead>\n",
       "  <tbody>\n",
       "    <tr>\n",
       "      <th>0</th>\n",
       "      <td>241</td>\n",
       "      <td>1</td>\n",
       "      <td>0</td>\n",
       "      <td>1</td>\n",
       "      <td>0</td>\n",
       "      <td>1</td>\n",
       "      <td>1</td>\n",
       "      <td>0</td>\n",
       "      <td>1</td>\n",
       "      <td>0</td>\n",
       "      <td>...</td>\n",
       "      <td>5.36</td>\n",
       "      <td>0.29</td>\n",
       "      <td>0.38</td>\n",
       "      <td>0.67</td>\n",
       "      <td>57.0</td>\n",
       "      <td>58.9</td>\n",
       "      <td>52.3</td>\n",
       "      <td>31.0</td>\n",
       "      <td>5.9</td>\n",
       "      <td>76</td>\n",
       "    </tr>\n",
       "    <tr>\n",
       "      <th>1</th>\n",
       "      <td>693</td>\n",
       "      <td>0</td>\n",
       "      <td>1</td>\n",
       "      <td>0</td>\n",
       "      <td>0</td>\n",
       "      <td>1</td>\n",
       "      <td>0</td>\n",
       "      <td>1</td>\n",
       "      <td>0</td>\n",
       "      <td>0</td>\n",
       "      <td>...</td>\n",
       "      <td>6.50</td>\n",
       "      <td>0.20</td>\n",
       "      <td>0.40</td>\n",
       "      <td>0.60</td>\n",
       "      <td>61.0</td>\n",
       "      <td>34.6</td>\n",
       "      <td>106.0</td>\n",
       "      <td>66.0</td>\n",
       "      <td>4.3</td>\n",
       "      <td>15</td>\n",
       "    </tr>\n",
       "    <tr>\n",
       "      <th>2</th>\n",
       "      <td>709</td>\n",
       "      <td>1</td>\n",
       "      <td>0</td>\n",
       "      <td>1</td>\n",
       "      <td>0</td>\n",
       "      <td>1</td>\n",
       "      <td>1</td>\n",
       "      <td>0</td>\n",
       "      <td>1</td>\n",
       "      <td>0</td>\n",
       "      <td>...</td>\n",
       "      <td>6.50</td>\n",
       "      <td>0.20</td>\n",
       "      <td>0.40</td>\n",
       "      <td>0.60</td>\n",
       "      <td>61.0</td>\n",
       "      <td>36.4</td>\n",
       "      <td>106.0</td>\n",
       "      <td>66.0</td>\n",
       "      <td>16.5</td>\n",
       "      <td>68</td>\n",
       "    </tr>\n",
       "    <tr>\n",
       "      <th>3</th>\n",
       "      <td>842</td>\n",
       "      <td>0</td>\n",
       "      <td>0</td>\n",
       "      <td>1</td>\n",
       "      <td>0</td>\n",
       "      <td>1</td>\n",
       "      <td>0</td>\n",
       "      <td>1</td>\n",
       "      <td>0</td>\n",
       "      <td>0</td>\n",
       "      <td>...</td>\n",
       "      <td>6.90</td>\n",
       "      <td>0.10</td>\n",
       "      <td>0.70</td>\n",
       "      <td>0.80</td>\n",
       "      <td>76.0</td>\n",
       "      <td>18.9</td>\n",
       "      <td>37.0</td>\n",
       "      <td>23.0</td>\n",
       "      <td>2.0</td>\n",
       "      <td>62</td>\n",
       "    </tr>\n",
       "    <tr>\n",
       "      <th>4</th>\n",
       "      <td>886</td>\n",
       "      <td>0</td>\n",
       "      <td>0</td>\n",
       "      <td>0</td>\n",
       "      <td>1</td>\n",
       "      <td>1</td>\n",
       "      <td>1</td>\n",
       "      <td>0</td>\n",
       "      <td>1</td>\n",
       "      <td>0</td>\n",
       "      <td>...</td>\n",
       "      <td>6.50</td>\n",
       "      <td>0.20</td>\n",
       "      <td>0.40</td>\n",
       "      <td>0.60</td>\n",
       "      <td>61.0</td>\n",
       "      <td>40.4</td>\n",
       "      <td>106.0</td>\n",
       "      <td>66.0</td>\n",
       "      <td>5.0</td>\n",
       "      <td>41</td>\n",
       "    </tr>\n",
       "  </tbody>\n",
       "</table>\n",
       "<p>5 rows × 62 columns</p>\n",
       "</div>"
      ],
      "text/plain": [
       "   RegistrationNo  Gender  maritalStatusWithoutFamily  \\\n",
       "0             241       1                           0   \n",
       "1             693       0                           1   \n",
       "2             709       1                           0   \n",
       "3             842       0                           0   \n",
       "4             886       0                           0   \n",
       "\n",
       "   maritalStatusWithFamily  maritalStatusUnknown  isResCity  admissionTypeER  \\\n",
       "0                        1                     0          1                1   \n",
       "1                        0                     0          1                0   \n",
       "2                        1                     0          1                1   \n",
       "3                        1                     0          1                0   \n",
       "4                        0                     1          1                1   \n",
       "\n",
       "   admissionTypeDirect  isPrvsAdmn  isChannelCorporate ...   \\\n",
       "0                    0           1                   0 ...    \n",
       "1                    1           0                   0 ...    \n",
       "2                    0           1                   0 ...    \n",
       "3                    1           0                   0 ...    \n",
       "4                    0           1                   0 ...    \n",
       "\n",
       "   TotalProteinAtAdm  bilirubinDirectAtAdm  bilirubinIndirectAtAdm  \\\n",
       "0               5.36                  0.29                    0.38   \n",
       "1               6.50                  0.20                    0.40   \n",
       "2               6.50                  0.20                    0.40   \n",
       "3               6.90                  0.10                    0.70   \n",
       "4               6.50                  0.20                    0.40   \n",
       "\n",
       "   bilirubinTotalAtAdm  gammaGlutamylTransferaseAtAdm  HaematocritAtAdm  \\\n",
       "0                 0.67                           57.0              58.9   \n",
       "1                 0.60                           61.0              34.6   \n",
       "2                 0.60                           61.0              36.4   \n",
       "3                 0.80                           76.0              18.9   \n",
       "4                 0.60                           61.0              40.4   \n",
       "\n",
       "   SGOT_ASTAtAdm  SGPT_ALTAtAdm  TLCAtAdm  Age  \n",
       "0           52.3           31.0       5.9   76  \n",
       "1          106.0           66.0       4.3   15  \n",
       "2          106.0           66.0      16.5   68  \n",
       "3           37.0           23.0       2.0   62  \n",
       "4          106.0           66.0       5.0   41  \n",
       "\n",
       "[5 rows x 62 columns]"
      ]
     },
     "execution_count": 21,
     "metadata": {},
     "output_type": "execute_result"
    }
   ],
   "source": [
    "X_train, y_train, X_test, y_test = LoadData()\n",
    "model_full.head()"
   ]
  },
  {
   "cell_type": "code",
   "execution_count": 22,
   "metadata": {},
   "outputs": [
    {
     "data": {
      "text/html": [
       "<div>\n",
       "<style scoped>\n",
       "    .dataframe tbody tr th:only-of-type {\n",
       "        vertical-align: middle;\n",
       "    }\n",
       "\n",
       "    .dataframe tbody tr th {\n",
       "        vertical-align: top;\n",
       "    }\n",
       "\n",
       "    .dataframe thead th {\n",
       "        text-align: right;\n",
       "    }\n",
       "</style>\n",
       "<table border=\"1\" class=\"dataframe\">\n",
       "  <thead>\n",
       "    <tr style=\"text-align: right;\">\n",
       "      <th></th>\n",
       "      <th>RegistrationNo</th>\n",
       "      <th>Gender</th>\n",
       "      <th>maritalStatusWithoutFamily</th>\n",
       "      <th>maritalStatusWithFamily</th>\n",
       "      <th>maritalStatusUnknown</th>\n",
       "      <th>isResCity</th>\n",
       "      <th>admissionTypeER</th>\n",
       "      <th>admissionTypeDirect</th>\n",
       "      <th>isPrvsAdmn</th>\n",
       "      <th>isChannelCorporate</th>\n",
       "      <th>...</th>\n",
       "      <th>TotalProteinAtAdm</th>\n",
       "      <th>bilirubinDirectAtAdm</th>\n",
       "      <th>bilirubinIndirectAtAdm</th>\n",
       "      <th>bilirubinTotalAtAdm</th>\n",
       "      <th>gammaGlutamylTransferaseAtAdm</th>\n",
       "      <th>HaematocritAtAdm</th>\n",
       "      <th>SGOT_ASTAtAdm</th>\n",
       "      <th>SGPT_ALTAtAdm</th>\n",
       "      <th>TLCAtAdm</th>\n",
       "      <th>Age</th>\n",
       "    </tr>\n",
       "  </thead>\n",
       "  <tbody>\n",
       "    <tr>\n",
       "      <th>count</th>\n",
       "      <td>1148.000000</td>\n",
       "      <td>1148.000000</td>\n",
       "      <td>1148.000000</td>\n",
       "      <td>1148.000000</td>\n",
       "      <td>1148.000000</td>\n",
       "      <td>1148.000000</td>\n",
       "      <td>1148.000000</td>\n",
       "      <td>1148.000000</td>\n",
       "      <td>1148.000000</td>\n",
       "      <td>1148.000000</td>\n",
       "      <td>...</td>\n",
       "      <td>1148.000000</td>\n",
       "      <td>1148.000000</td>\n",
       "      <td>1148.000000</td>\n",
       "      <td>1148.000000</td>\n",
       "      <td>1148.000000</td>\n",
       "      <td>1148.000000</td>\n",
       "      <td>1148.000000</td>\n",
       "      <td>1148.000000</td>\n",
       "      <td>1148.000000</td>\n",
       "      <td>1148.000000</td>\n",
       "    </tr>\n",
       "    <tr>\n",
       "      <th>mean</th>\n",
       "      <td>239556.583624</td>\n",
       "      <td>0.602787</td>\n",
       "      <td>0.439024</td>\n",
       "      <td>0.533101</td>\n",
       "      <td>0.027875</td>\n",
       "      <td>0.980836</td>\n",
       "      <td>0.699477</td>\n",
       "      <td>0.300523</td>\n",
       "      <td>0.171603</td>\n",
       "      <td>0.021777</td>\n",
       "      <td>...</td>\n",
       "      <td>6.481045</td>\n",
       "      <td>0.250697</td>\n",
       "      <td>0.482744</td>\n",
       "      <td>0.735096</td>\n",
       "      <td>84.268293</td>\n",
       "      <td>40.570470</td>\n",
       "      <td>209.819599</td>\n",
       "      <td>113.177700</td>\n",
       "      <td>5.943876</td>\n",
       "      <td>30.342334</td>\n",
       "    </tr>\n",
       "    <tr>\n",
       "      <th>std</th>\n",
       "      <td>166630.101091</td>\n",
       "      <td>0.489534</td>\n",
       "      <td>0.496484</td>\n",
       "      <td>0.499121</td>\n",
       "      <td>0.164685</td>\n",
       "      <td>0.137160</td>\n",
       "      <td>0.458685</td>\n",
       "      <td>0.458685</td>\n",
       "      <td>0.377199</td>\n",
       "      <td>0.146018</td>\n",
       "      <td>...</td>\n",
       "      <td>0.569192</td>\n",
       "      <td>0.437538</td>\n",
       "      <td>0.780370</td>\n",
       "      <td>1.022830</td>\n",
       "      <td>90.879366</td>\n",
       "      <td>5.889456</td>\n",
       "      <td>840.337939</td>\n",
       "      <td>308.932561</td>\n",
       "      <td>4.049610</td>\n",
       "      <td>18.326033</td>\n",
       "    </tr>\n",
       "    <tr>\n",
       "      <th>min</th>\n",
       "      <td>241.000000</td>\n",
       "      <td>0.000000</td>\n",
       "      <td>0.000000</td>\n",
       "      <td>0.000000</td>\n",
       "      <td>0.000000</td>\n",
       "      <td>0.000000</td>\n",
       "      <td>0.000000</td>\n",
       "      <td>0.000000</td>\n",
       "      <td>0.000000</td>\n",
       "      <td>0.000000</td>\n",
       "      <td>...</td>\n",
       "      <td>2.900000</td>\n",
       "      <td>0.000000</td>\n",
       "      <td>0.100000</td>\n",
       "      <td>0.100000</td>\n",
       "      <td>4.000000</td>\n",
       "      <td>18.900000</td>\n",
       "      <td>13.000000</td>\n",
       "      <td>8.000000</td>\n",
       "      <td>0.900000</td>\n",
       "      <td>0.000000</td>\n",
       "    </tr>\n",
       "    <tr>\n",
       "      <th>25%</th>\n",
       "      <td>88861.000000</td>\n",
       "      <td>0.000000</td>\n",
       "      <td>0.000000</td>\n",
       "      <td>0.000000</td>\n",
       "      <td>0.000000</td>\n",
       "      <td>1.000000</td>\n",
       "      <td>0.000000</td>\n",
       "      <td>0.000000</td>\n",
       "      <td>0.000000</td>\n",
       "      <td>0.000000</td>\n",
       "      <td>...</td>\n",
       "      <td>6.400000</td>\n",
       "      <td>0.200000</td>\n",
       "      <td>0.400000</td>\n",
       "      <td>0.500000</td>\n",
       "      <td>57.750000</td>\n",
       "      <td>36.800000</td>\n",
       "      <td>85.000000</td>\n",
       "      <td>47.750000</td>\n",
       "      <td>3.700000</td>\n",
       "      <td>16.000000</td>\n",
       "    </tr>\n",
       "    <tr>\n",
       "      <th>50%</th>\n",
       "      <td>291616.000000</td>\n",
       "      <td>1.000000</td>\n",
       "      <td>0.000000</td>\n",
       "      <td>1.000000</td>\n",
       "      <td>0.000000</td>\n",
       "      <td>1.000000</td>\n",
       "      <td>1.000000</td>\n",
       "      <td>0.000000</td>\n",
       "      <td>0.000000</td>\n",
       "      <td>0.000000</td>\n",
       "      <td>...</td>\n",
       "      <td>6.500000</td>\n",
       "      <td>0.200000</td>\n",
       "      <td>0.400000</td>\n",
       "      <td>0.600000</td>\n",
       "      <td>61.000000</td>\n",
       "      <td>40.400000</td>\n",
       "      <td>106.000000</td>\n",
       "      <td>66.000000</td>\n",
       "      <td>5.000000</td>\n",
       "      <td>28.000000</td>\n",
       "    </tr>\n",
       "    <tr>\n",
       "      <th>75%</th>\n",
       "      <td>358537.750000</td>\n",
       "      <td>1.000000</td>\n",
       "      <td>1.000000</td>\n",
       "      <td>1.000000</td>\n",
       "      <td>0.000000</td>\n",
       "      <td>1.000000</td>\n",
       "      <td>1.000000</td>\n",
       "      <td>1.000000</td>\n",
       "      <td>0.000000</td>\n",
       "      <td>0.000000</td>\n",
       "      <td>...</td>\n",
       "      <td>6.600000</td>\n",
       "      <td>0.200000</td>\n",
       "      <td>0.400000</td>\n",
       "      <td>0.600000</td>\n",
       "      <td>67.000000</td>\n",
       "      <td>44.300000</td>\n",
       "      <td>135.000000</td>\n",
       "      <td>88.000000</td>\n",
       "      <td>6.800000</td>\n",
       "      <td>41.250000</td>\n",
       "    </tr>\n",
       "    <tr>\n",
       "      <th>max</th>\n",
       "      <td>688877.000000</td>\n",
       "      <td>1.000000</td>\n",
       "      <td>1.000000</td>\n",
       "      <td>1.000000</td>\n",
       "      <td>1.000000</td>\n",
       "      <td>1.000000</td>\n",
       "      <td>1.000000</td>\n",
       "      <td>1.000000</td>\n",
       "      <td>1.000000</td>\n",
       "      <td>1.000000</td>\n",
       "      <td>...</td>\n",
       "      <td>8.500000</td>\n",
       "      <td>7.000000</td>\n",
       "      <td>16.600000</td>\n",
       "      <td>17.100000</td>\n",
       "      <td>1029.000000</td>\n",
       "      <td>58.900000</td>\n",
       "      <td>18590.000000</td>\n",
       "      <td>6054.000000</td>\n",
       "      <td>45.400000</td>\n",
       "      <td>87.000000</td>\n",
       "    </tr>\n",
       "  </tbody>\n",
       "</table>\n",
       "<p>8 rows × 62 columns</p>\n",
       "</div>"
      ],
      "text/plain": [
       "       RegistrationNo       Gender  maritalStatusWithoutFamily  \\\n",
       "count     1148.000000  1148.000000                 1148.000000   \n",
       "mean    239556.583624     0.602787                    0.439024   \n",
       "std     166630.101091     0.489534                    0.496484   \n",
       "min        241.000000     0.000000                    0.000000   \n",
       "25%      88861.000000     0.000000                    0.000000   \n",
       "50%     291616.000000     1.000000                    0.000000   \n",
       "75%     358537.750000     1.000000                    1.000000   \n",
       "max     688877.000000     1.000000                    1.000000   \n",
       "\n",
       "       maritalStatusWithFamily  maritalStatusUnknown    isResCity  \\\n",
       "count              1148.000000           1148.000000  1148.000000   \n",
       "mean                  0.533101              0.027875     0.980836   \n",
       "std                   0.499121              0.164685     0.137160   \n",
       "min                   0.000000              0.000000     0.000000   \n",
       "25%                   0.000000              0.000000     1.000000   \n",
       "50%                   1.000000              0.000000     1.000000   \n",
       "75%                   1.000000              0.000000     1.000000   \n",
       "max                   1.000000              1.000000     1.000000   \n",
       "\n",
       "       admissionTypeER  admissionTypeDirect   isPrvsAdmn  isChannelCorporate  \\\n",
       "count      1148.000000          1148.000000  1148.000000         1148.000000   \n",
       "mean          0.699477             0.300523     0.171603            0.021777   \n",
       "std           0.458685             0.458685     0.377199            0.146018   \n",
       "min           0.000000             0.000000     0.000000            0.000000   \n",
       "25%           0.000000             0.000000     0.000000            0.000000   \n",
       "50%           1.000000             0.000000     0.000000            0.000000   \n",
       "75%           1.000000             1.000000     0.000000            0.000000   \n",
       "max           1.000000             1.000000     1.000000            1.000000   \n",
       "\n",
       "          ...       TotalProteinAtAdm  bilirubinDirectAtAdm  \\\n",
       "count     ...             1148.000000           1148.000000   \n",
       "mean      ...                6.481045              0.250697   \n",
       "std       ...                0.569192              0.437538   \n",
       "min       ...                2.900000              0.000000   \n",
       "25%       ...                6.400000              0.200000   \n",
       "50%       ...                6.500000              0.200000   \n",
       "75%       ...                6.600000              0.200000   \n",
       "max       ...                8.500000              7.000000   \n",
       "\n",
       "       bilirubinIndirectAtAdm  bilirubinTotalAtAdm  \\\n",
       "count             1148.000000          1148.000000   \n",
       "mean                 0.482744             0.735096   \n",
       "std                  0.780370             1.022830   \n",
       "min                  0.100000             0.100000   \n",
       "25%                  0.400000             0.500000   \n",
       "50%                  0.400000             0.600000   \n",
       "75%                  0.400000             0.600000   \n",
       "max                 16.600000            17.100000   \n",
       "\n",
       "       gammaGlutamylTransferaseAtAdm  HaematocritAtAdm  SGOT_ASTAtAdm  \\\n",
       "count                    1148.000000       1148.000000    1148.000000   \n",
       "mean                       84.268293         40.570470     209.819599   \n",
       "std                        90.879366          5.889456     840.337939   \n",
       "min                         4.000000         18.900000      13.000000   \n",
       "25%                        57.750000         36.800000      85.000000   \n",
       "50%                        61.000000         40.400000     106.000000   \n",
       "75%                        67.000000         44.300000     135.000000   \n",
       "max                      1029.000000         58.900000   18590.000000   \n",
       "\n",
       "       SGPT_ALTAtAdm     TLCAtAdm          Age  \n",
       "count    1148.000000  1148.000000  1148.000000  \n",
       "mean      113.177700     5.943876    30.342334  \n",
       "std       308.932561     4.049610    18.326033  \n",
       "min         8.000000     0.900000     0.000000  \n",
       "25%        47.750000     3.700000    16.000000  \n",
       "50%        66.000000     5.000000    28.000000  \n",
       "75%        88.000000     6.800000    41.250000  \n",
       "max      6054.000000    45.400000    87.000000  \n",
       "\n",
       "[8 rows x 62 columns]"
      ]
     },
     "execution_count": 22,
     "metadata": {},
     "output_type": "execute_result"
    }
   ],
   "source": [
    "model_full.describe()"
   ]
  },
  {
   "cell_type": "code",
   "execution_count": 23,
   "metadata": {},
   "outputs": [
    {
     "data": {
      "text/plain": [
       "RegistrationNo                      int64\n",
       "Gender                              int64\n",
       "maritalStatusWithoutFamily          int64\n",
       "maritalStatusWithFamily             int64\n",
       "maritalStatusUnknown                int64\n",
       "isResCity                           int64\n",
       "admissionTypeER                     int64\n",
       "admissionTypeDirect                 int64\n",
       "isPrvsAdmn                          int64\n",
       "isChannelCorporate                  int64\n",
       "isChannelCashCd                     int64\n",
       "isChannelPSU                        int64\n",
       "isChannelTPA                        int64\n",
       "isAssistedVentilation               int64\n",
       "isBTDone                            int64\n",
       "thoromboCytopeniaFirstSevere        int64\n",
       "thoromboCytopeniaFirstModerate      int64\n",
       "thoromboCytopeniaFirstMild          int64\n",
       "noThoromboCytopeniaFirst            int64\n",
       "thoromboCytopeniaMinSevere          int64\n",
       "thoromboCytopeniaMinModerate        int64\n",
       "thoromboCytopeniaMinMild            int64\n",
       "noThoromboCytopeniaMin              int64\n",
       "thoromboCytopeniaMaxSevere          int64\n",
       "thoromboCytopeniaMaxModerate        int64\n",
       "thoromboCytopeniaMaxMild            int64\n",
       "noThoromboCytopeniaMax              int64\n",
       "thoromboCytopeniaAvgSevere          int64\n",
       "thoromboCytopeniaAvgModerate        int64\n",
       "thoromboCytopeniaAvgxMild           int64\n",
       "                                   ...   \n",
       "Left_effusion                       int64\n",
       "Right_effusion                      int64\n",
       "Bilateral_effusion                  int64\n",
       "Abdominal_free_fluid                int64\n",
       "AlbuminAtAdm                      float64\n",
       "CreatinineAtAdm                   float64\n",
       "EosinophilsAtAdm                  float64\n",
       "GlobulinAtAdm                     float64\n",
       "HaemoglobinAtAdm                  float64\n",
       "LymphocytesAtAdm                  float64\n",
       "MCHAtAdm                            int64\n",
       "MCHCAtAdm                         float64\n",
       "MCVAtAdm                          float64\n",
       "MonocytesAtAdm                    float64\n",
       "NeutrophilsAtAdm                  float64\n",
       "PlateletCountAtAdm                  int64\n",
       "PotassiumAtAdm                    float64\n",
       "RBC.CountAtAdm                    float64\n",
       "RDWAtAdm                          float64\n",
       "SodiumAtAdm                       float64\n",
       "TotalProteinAtAdm                 float64\n",
       "bilirubinDirectAtAdm              float64\n",
       "bilirubinIndirectAtAdm            float64\n",
       "bilirubinTotalAtAdm               float64\n",
       "gammaGlutamylTransferaseAtAdm     float64\n",
       "HaematocritAtAdm                  float64\n",
       "SGOT_ASTAtAdm                     float64\n",
       "SGPT_ALTAtAdm                     float64\n",
       "TLCAtAdm                          float64\n",
       "Age                                 int64\n",
       "Length: 62, dtype: object"
      ]
     },
     "execution_count": 23,
     "metadata": {},
     "output_type": "execute_result"
    }
   ],
   "source": [
    "model_full.dtypes"
   ]
  },
  {
   "cell_type": "code",
   "execution_count": 24,
   "metadata": {},
   "outputs": [
    {
     "name": "stdout",
     "output_type": "stream",
     "text": [
      "Distribution of Blood transfusion on whole data\n"
     ]
    },
    {
     "data": {
      "image/png": "[encoded data removed]",
      "text/plain": [
       "<Figure size 432x288 with 1 Axes>"
      ]
     },
     "metadata": {
      "needs_background": "light"
     },
     "output_type": "display_data"
    }
   ],
   "source": [
    "# lets get the % of Blood Transfusion patients\n",
    "print('Distribution of Blood transfusion on whole data')\n",
    "ax = sns.countplot(model_full['isBTDone'])\n",
    "ax.set_ylabel('Percentage of patients (%)')\n",
    "bars = ax.patches\n",
    "half = int(len(bars)/2)\n",
    "left_bars = bars[:half]\n",
    "right_bars = bars[half:]\n",
    "for left, right in zip(left_bars, right_bars):\n",
    "    height_l = left.get_height()\n",
    "    height_r = right.get_height()\n",
    "    total = height_l + height_r\n",
    "    ax.text(left.get_x() + left.get_width()/2., height_l + 40, '{0:.0%}'.format(height_l/total), ha=\"center\")\n",
    "    ax.text(right.get_x() + right.get_width()/2., height_r + 40, '{0:.0%}'.format(height_r/total), ha=\"center\")"
   ]
  },
  {
   "cell_type": "code",
   "execution_count": 26,
   "metadata": {},
   "outputs": [
    {
     "name": "stdout",
     "output_type": "stream",
     "text": [
      "Distribution of the data:\n",
      "----------------------------------------------------\n",
      "The total data has 1148 rows and 62 columns\n",
      "\n",
      "Blood transfusion = yes cases = 275  and % = 23.95 \n",
      "\n",
      "Blood transfusion = no cases = 873  and % = 76.05 \n",
      "\n",
      "----------------------------------------------------\n",
      "Distribution of training data\n",
      "----------------------------------------------------\n",
      "The train data has 803 rows and 60 columns\n",
      "\n",
      "The training data % = 69.95 \n",
      "\n",
      "Blood transfusion = yes cases = 189  and % = 23.54 \n",
      "\n",
      "Blood transfusion = no cases = 614  and % = 76.46 \n",
      "\n",
      "----------------------------------------------------\n",
      "Distribution of testing data\n",
      "----------------------------------------------------\n",
      "The test data has 345 rows and 60 columns\n",
      "\n",
      "The testing data % = 30.05 \n",
      "\n",
      "Blood transfusion = yes cases = 86  and % = 24.93 \n",
      "\n",
      "Blood transfusion = no cases = 259  and % = 75.07 \n"
     ]
    }
   ],
   "source": [
    "no, yes = model_full['isBTDone'].value_counts()\n",
    "X_train, y_train, X_test, y_test = LoadData()\n",
    "print('Distribution of the data:')\n",
    "print ('----------------------------------------------------')\n",
    "print ('The total data has {0} rows and {1} columns'.format(model_full.shape[0],model_full.shape[1]))\n",
    "print ('')\n",
    "print ('Blood transfusion = yes cases = {0}  and % = {1} '.format(yes,np.round((yes/model_full.shape[0])*100,2)))\n",
    "print ('')\n",
    "print ('Blood transfusion = no cases = {0}  and % = {1} '.format(no,np.round((no/model_full.shape[0])*100,2)))\n",
    "print ('')\n",
    "print ('----------------------------------------------------')\n",
    "print ('Distribution of training data')\n",
    "print ('----------------------------------------------------')\n",
    "print ('The train data has {0} rows and {1} columns'.format(X_train.shape[0],X_train.shape[1]))\n",
    "print ('')\n",
    "print ('The training data % = {0} '.format(np.round((X_train.shape[0]/model_full.shape[0])*100,2)))\n",
    "print ('')\n",
    "y_tr = y_train.sum()\n",
    "n_tr = X_train.shape[0] -y_tr    #yes1\n",
    "print ('Blood transfusion = yes cases = {0}  and % = {1} '.format(y_tr,np.round((y_tr/X_train.shape[0])*100,2)))\n",
    "print ('')\n",
    "print ('Blood transfusion = no cases = {0}  and % = {1} '.format(n_tr,np.round((n_tr/X_train.shape[0])*100,2)))\n",
    "print ('')\n",
    "print ('----------------------------------------------------')\n",
    "print ('Distribution of testing data')\n",
    "print ('----------------------------------------------------')\n",
    "print ('The test data has {0} rows and {1} columns'.format(X_test.shape[0],X_test.shape[1]))\n",
    "print ('')\n",
    "print ('The testing data % = {0} '.format(np.round((X_test.shape[0]/model_full.shape[0])*100,2)))\n",
    "print ('')\n",
    "y_te = y_test.sum()\n",
    "n_te = X_test.shape[0] -y_te\n",
    "print ('Blood transfusion = yes cases = {0}  and % = {1} '.format(y_te,np.round((y_te/X_test.shape[0])*100,2)))\n",
    "print ('')\n",
    "print ('Blood transfusion = no cases = {0}  and % = {1} '.format(n_te,np.round((n_te/X_test.shape[0])*100,2)))"
   ]
  },
  {
   "cell_type": "code",
   "execution_count": 27,
   "metadata": {},
   "outputs": [
    {
     "name": "stdout",
     "output_type": "stream",
     "text": [
      "Training data : Distribution of Blood transfusion\n"
     ]
    },
    {
     "data": {
      "image/png": "[encoded data removed]",
      "text/plain": [
       "<Figure size 432x288 with 1 Axes>"
      ]
     },
     "metadata": {
      "needs_background": "light"
     },
     "output_type": "display_data"
    }
   ],
   "source": [
    "# lets get the % of Blood Transfusion patients\n",
    "print('Training data : Distribution of Blood transfusion')\n",
    "ax = sns.countplot(y_train)\n",
    "ax.set_ylabel('Percentage of patients (%)')\n",
    "bars = ax.patches\n",
    "half = int(len(bars)/2)\n",
    "left_bars = bars[:half]\n",
    "right_bars = bars[half:]\n",
    "for left, right in zip(left_bars, right_bars):\n",
    "    height_l = left.get_height()\n",
    "    height_r = right.get_height()\n",
    "    total = height_l + height_r\n",
    "    ax.text(left.get_x() + left.get_width()/2., height_l + 40, '{0:.0%}'.format(height_l/total), ha=\"center\")\n",
    "    ax.text(right.get_x() + right.get_width()/2., height_r + 40, '{0:.0%}'.format(height_r/total), ha=\"center\")"
   ]
  },
  {
   "cell_type": "code",
   "execution_count": 28,
   "metadata": {},
   "outputs": [
    {
     "name": "stdout",
     "output_type": "stream",
     "text": [
      "Testing data : Distribution of Blood transfusion\n"
     ]
    },
    {
     "data": {
      "image/png": "[encoded data removed]",
      "text/plain": [
       "<Figure size 432x288 with 1 Axes>"
      ]
     },
     "metadata": {
      "needs_background": "light"
     },
     "output_type": "display_data"
    }
   ],
   "source": [
    "# lets get the % of Blood Transfusion patients\n",
    "print('Testing data : Distribution of Blood transfusion')\n",
    "ax = sns.countplot(y_test)\n",
    "ax.set_ylabel('Percentage of patients (%)')\n",
    "bars = ax.patches\n",
    "half = int(len(bars)/2)\n",
    "left_bars = bars[:half]\n",
    "right_bars = bars[half:]\n",
    "for left, right in zip(left_bars, right_bars):\n",
    "    height_l = left.get_height()\n",
    "    height_r = right.get_height()\n",
    "    total = height_l + height_r\n",
    "    ax.text(left.get_x() + left.get_width()/2., height_l + 40, '{0:.0%}'.format(height_l/total), ha=\"center\")\n",
    "    ax.text(right.get_x() + right.get_width()/2., height_r + 40, '{0:.0%}'.format(height_r/total), ha=\"center\")"
   ]
  },
  {
   "cell_type": "markdown",
   "metadata": {},
   "source": [
    "### Define basic linear classifiers"
   ]
  },
  {
   "cell_type": "code",
   "execution_count": 54,
   "metadata": {},
   "outputs": [],
   "source": [
    "lr_clf_dict = dict()\n",
    "\n",
    "from sklearn.linear_model import Ridge\n",
    "clf = Ridge()\n",
    "lr_clf_dict['Ridge'] = clf\n",
    "\n",
    "from sklearn.linear_model import Lasso\n",
    "clf = Lasso()\n",
    "lr_clf_dict['Lasso'] = clf\n",
    "\n",
    "from sklearn.linear_model import LogisticRegression\n",
    "clf = LogisticRegression(solver='liblinear')\n",
    "lr_clf_dict['Logistic Regression'] = clf\n",
    "\n",
    "# 1\n",
    "from sklearn.linear_model import ElasticNet\n",
    "clf = ElasticNet()\n",
    "lr_clf_dict['ElasticNet'] = clf"
   ]
  },
  {
   "cell_type": "markdown",
   "metadata": {},
   "source": [
    "### Build models "
   ]
  },
  {
   "cell_type": "code",
   "execution_count": 55,
   "metadata": {},
   "outputs": [
    {
     "name": "stderr",
     "output_type": "stream",
     "text": [
      "[Parallel(n_jobs=1)]: Using backend SequentialBackend with 1 concurrent workers.\n",
      "[Parallel(n_jobs=1)]: Done   5 out of   5 | elapsed:    1.6s finished\n",
      "[Parallel(n_jobs=1)]: Using backend SequentialBackend with 1 concurrent workers.\n"
     ]
    },
    {
     "name": "stdout",
     "output_type": "stream",
     "text": [
      "---------------------------------------------------------------------\n",
      "Ridge\n",
      "---------------------------------------------------------------------\n",
      "CV mean: %.5f CV std: %.5f 0.8392414300282731 0.04031320414981371\n"
     ]
    },
    {
     "name": "stderr",
     "output_type": "stream",
     "text": [
      "[Parallel(n_jobs=1)]: Done   5 out of   5 | elapsed:    0.1s finished\n",
      "[Parallel(n_jobs=1)]: Using backend SequentialBackend with 1 concurrent workers.\n"
     ]
    },
    {
     "name": "stdout",
     "output_type": "stream",
     "text": [
      "---------------------------------------------------------------------\n",
      "Lasso\n",
      "---------------------------------------------------------------------\n",
      "CV mean: %.5f CV std: %.5f 0.5 0.0\n",
      "---------------------------------------------------------------------\n",
      "Logistic Regression\n",
      "---------------------------------------------------------------------\n",
      "CV mean: %.5f CV std: %.5f 0.8394626407379201 0.037953606064763855\n",
      "---------------------------------------------------------------------\n",
      "ElasticNet\n",
      "---------------------------------------------------------------------\n",
      "CV mean: %.5f CV std: %.5f 0.5 0.0\n"
     ]
    },
    {
     "name": "stderr",
     "output_type": "stream",
     "text": [
      "[Parallel(n_jobs=1)]: Done   5 out of   5 | elapsed:    0.1s finished\n",
      "[Parallel(n_jobs=1)]: Using backend SequentialBackend with 1 concurrent workers.\n",
      "[Parallel(n_jobs=1)]: Done   5 out of   5 | elapsed:    0.0s finished\n"
     ]
    }
   ],
   "source": [
    "from sklearn.model_selection import StratifiedKFold\n",
    "from sklearn.model_selection import cross_val_score\n",
    "import numpy as np\n",
    "\n",
    "folds = 5\n",
    "param_comb = 5\n",
    "skf = StratifiedKFold(n_splits=folds, shuffle = True, random_state = 10345)\n",
    "# timing starts from this point for \"start_time\" variable\n",
    "#start_time = timer(None)\n",
    "for clf_name, clf in lr_clf_dict.items():\n",
    "    scores = cross_val_score(clf, X_train, y_train, scoring='roc_auc', cv=skf,verbose=1, n_jobs=1)\n",
    "    print(\"---------------------------------------------------------------------\") \n",
    "    print(clf_name)\n",
    "    print(\"---------------------------------------------------------------------\") \n",
    "    print ('CV mean: %.5f CV std: %.5f',np.mean(np.abs(scores)),np.std(scores))\n",
    "    #auc = roc_auc_score(y_test, clf.predict_proba(X_test)[:, 1])\n",
    "    #print(clf_name, 'auc score:', auc)\n",
    "#timer(start_time)"
   ]
  },
  {
   "cell_type": "markdown",
   "metadata": {},
   "source": [
    "### Above outcome suggests Logistic Regression is best "
   ]
  },
  {
   "cell_type": "markdown",
   "metadata": {},
   "source": [
    "### Define basic non-linear classifiers"
   ]
  },
  {
   "cell_type": "code",
   "execution_count": 56,
   "metadata": {},
   "outputs": [],
   "source": [
    "nonlr_clf_dict = dict()\n",
    "# 2\n",
    "from sklearn.ensemble import RandomForestClassifier\n",
    "clf = RandomForestClassifier()\n",
    "nonlr_clf_dict['Random Forest Classifier'] = clf\n",
    "\n",
    "from sklearn.ensemble import GradientBoostingClassifier\n",
    "clf = GradientBoostingClassifier()\n",
    "nonlr_clf_dict['Gradient Boosting Classifier'] = clf\n",
    "\n",
    "from sklearn.ensemble import ExtraTreesClassifier\n",
    "clf = ExtraTreesClassifier()\n",
    "nonlr_clf_dict['Extra Trees Classifier'] = clf\n",
    "\n",
    "from xgboost import XGBClassifier\n",
    "clf = XGBClassifier()\n",
    "nonlr_clf_dict['XGB Classifier'] = clf\n",
    "\n",
    "from sklearn.neighbors import KNeighborsClassifier\n",
    "clf = KNeighborsClassifier()\n",
    "nonlr_clf_dict['KNeighbors Classifier'] = clf\n",
    "# 3\n",
    "from sklearn.svm import SVC\n",
    "clf = SVC(kernel='rbf',probability=True)   # rbf, linear, polynomial, sigmoid \n",
    "nonlr_clf_dict['SVM Classifier'] = clf"
   ]
  },
  {
   "cell_type": "code",
   "execution_count": 50,
   "metadata": {},
   "outputs": [],
   "source": [
    "X_train, X_test = dataPreProc()"
   ]
  },
  {
   "cell_type": "code",
   "execution_count": 51,
   "metadata": {},
   "outputs": [
    {
     "data": {
      "text/plain": [
       "array([-1.20650632,  1.08722823, -1.0290648 , -0.16783627,  0.14706631,\n",
       "        0.66846604, -0.66846604, -0.44754771, -0.12316927, -0.11229577,\n",
       "       -0.44754771,  0.49103241, -0.14706631, -0.23492667, -0.52209501,\n",
       "       -0.52402593,  0.97904882, -0.30416608, -0.56440678, -0.52016307,\n",
       "        1.12906489, -0.14706631, -0.49298484, -0.52209501,  0.88121999,\n",
       "       -0.22287486, -0.52402593, -0.51823007,  0.95493705, -0.53174017,\n",
       "       -0.31622777, -0.52016307, -0.29428476, -0.71173493,  1.7016017 ,\n",
       "       -0.9632112 , -0.47142427, -1.04074853, -1.31764459, -1.14891101,\n",
       "       -1.96010981, -1.06476217, -2.04391811,  1.48947872,  0.91986766,\n",
       "        3.24511673,  1.50434158,  0.03690013,  0.78522867,  0.57960183,\n",
       "        0.55518813, -0.33810221, -0.22551253, -0.31296492, -0.81348456,\n",
       "       -1.15548659, -0.1916361 , -0.34825264,  0.30067341, -1.59475097])"
      ]
     },
     "execution_count": 51,
     "metadata": {},
     "output_type": "execute_result"
    }
   ],
   "source": [
    "X_train[1,]"
   ]
  },
  {
   "cell_type": "markdown",
   "metadata": {},
   "source": [
    "### Build models "
   ]
  },
  {
   "cell_type": "code",
   "execution_count": 57,
   "metadata": {},
   "outputs": [
    {
     "name": "stderr",
     "output_type": "stream",
     "text": [
      "[Parallel(n_jobs=1)]: Using backend SequentialBackend with 1 concurrent workers.\n",
      "[Parallel(n_jobs=1)]: Done   5 out of   5 | elapsed:    0.0s finished\n",
      "[Parallel(n_jobs=1)]: Using backend SequentialBackend with 1 concurrent workers.\n"
     ]
    },
    {
     "name": "stdout",
     "output_type": "stream",
     "text": [
      "---------------------------------------------------------------------\n",
      "Random Forest Classifier\n",
      "---------------------------------------------------------------------\n",
      "Cross Validation scores on training data\n",
      "CV mean: %.5f CV std: %.5f 0.8024446456599911 0.03675453991641758\n",
      "\n",
      "AUC scores on testing data\n",
      "Random Forest Classifier auc score: 0.8217877345784323\n"
     ]
    },
    {
     "name": "stderr",
     "output_type": "stream",
     "text": [
      "[Parallel(n_jobs=1)]: Done   5 out of   5 | elapsed:    0.9s finished\n"
     ]
    },
    {
     "name": "stdout",
     "output_type": "stream",
     "text": [
      "---------------------------------------------------------------------\n",
      "Gradient Boosting Classifier\n",
      "---------------------------------------------------------------------\n",
      "Cross Validation scores on training data\n",
      "CV mean: %.5f CV std: %.5f 0.83857979804759 0.03943065936324342\n",
      "\n",
      "AUC scores on testing data\n",
      "Gradient Boosting Classifier auc score: 0.8598365807668134\n",
      "---------------------------------------------------------------------\n",
      "Extra Trees Classifier\n",
      "---------------------------------------------------------------------\n",
      "Cross Validation scores on training data\n",
      "CV mean: %.5f CV std: %.5f 0.8210675141986827 0.03994053037754128\n",
      "\n",
      "AUC scores on testing data\n",
      "Extra Trees Classifier auc score: 0.8550776690311575\n"
     ]
    },
    {
     "name": "stderr",
     "output_type": "stream",
     "text": [
      "[Parallel(n_jobs=1)]: Using backend SequentialBackend with 1 concurrent workers.\n",
      "[Parallel(n_jobs=1)]: Done   5 out of   5 | elapsed:    0.0s finished\n",
      "[Parallel(n_jobs=1)]: Using backend SequentialBackend with 1 concurrent workers.\n",
      "[Parallel(n_jobs=1)]: Done   5 out of   5 | elapsed:    0.9s finished\n"
     ]
    },
    {
     "name": "stdout",
     "output_type": "stream",
     "text": [
      "---------------------------------------------------------------------\n",
      "XGB Classifier\n",
      "---------------------------------------------------------------------\n",
      "Cross Validation scores on training data\n",
      "CV mean: %.5f CV std: %.5f 0.8423563149420176 0.029481474757346512\n",
      "\n",
      "AUC scores on testing data\n",
      "XGB Classifier auc score: 0.8534165394630511\n",
      "---------------------------------------------------------------------\n",
      "KNeighbors Classifier\n",
      "---------------------------------------------------------------------\n",
      "Cross Validation scores on training data\n",
      "CV mean: %.5f CV std: %.5f 0.7601260112360935 0.056271891354612025\n",
      "\n",
      "AUC scores on testing data\n",
      "KNeighbors Classifier auc score: 0.8127413127413127\n"
     ]
    },
    {
     "name": "stderr",
     "output_type": "stream",
     "text": [
      "[Parallel(n_jobs=1)]: Using backend SequentialBackend with 1 concurrent workers.\n",
      "[Parallel(n_jobs=1)]: Done   5 out of   5 | elapsed:    0.0s finished\n",
      "[Parallel(n_jobs=1)]: Using backend SequentialBackend with 1 concurrent workers.\n"
     ]
    },
    {
     "name": "stdout",
     "output_type": "stream",
     "text": [
      "---------------------------------------------------------------------\n",
      "SVM Classifier\n",
      "---------------------------------------------------------------------\n",
      "Cross Validation scores on training data\n",
      "CV mean: %.5f CV std: %.5f 0.8449959608380452 0.0207206317565092\n",
      "\n",
      "AUC scores on testing data\n",
      "SVM Classifier auc score: 0.8291505791505791\n"
     ]
    },
    {
     "name": "stderr",
     "output_type": "stream",
     "text": [
      "[Parallel(n_jobs=1)]: Done   5 out of   5 | elapsed:    0.5s finished\n"
     ]
    }
   ],
   "source": [
    "from sklearn.model_selection import StratifiedKFold\n",
    "from sklearn.model_selection import cross_val_score\n",
    "import numpy as np\n",
    "\n",
    "folds = 5\n",
    "param_comb = 5\n",
    "skf = StratifiedKFold(n_splits=folds, shuffle = True, random_state = 10345)\n",
    "# timing starts from this point for \"start_time\" variable\n",
    "#start_time = timer(None)\n",
    "for clf_name, clf in nonlr_clf_dict.items():\n",
    "    scores = cross_val_score(clf, X_train, y_train, scoring='roc_auc', cv=skf,verbose=1, n_jobs=1)\n",
    "    print(\"---------------------------------------------------------------------\") \n",
    "    print(clf_name)\n",
    "    print(\"---------------------------------------------------------------------\") \n",
    "    print(\"Cross Validation scores on training data\")\n",
    "    print ('CV mean: %.5f CV std: %.5f',np.mean(np.abs(scores)),np.std(scores))\n",
    "    clf.fit(X_train, y_train)\n",
    "    auc = roc_auc_score(y_test, clf.predict_proba(X_test)[:, 1])\n",
    "    print(\"\")  \n",
    "    print(\"AUC scores on testing data\")       \n",
    "    print(clf_name, 'auc score:', auc)\n",
    "#timer(start_time)"
   ]
  },
  {
   "cell_type": "markdown",
   "metadata": {},
   "source": [
    "### Hyperparameter Optimization : GridSearch with Cross Validation for tuning parameters"
   ]
  },
  {
   "cell_type": "markdown",
   "metadata": {},
   "source": [
    "### Logistic Regression : Hyperparameter Tuning and Visualization"
   ]
  },
  {
   "cell_type": "code",
   "execution_count": 125,
   "metadata": {},
   "outputs": [],
   "source": [
    "# A parameter grid for Logistic Regression\n",
    "from sklearn.model_selection import GridSearchCV\n",
    "from sklearn.linear_model import LogisticRegression\n",
    "clf = LogisticRegression()\n",
    "penalty = ['l1', 'l2']\n",
    "C = [0.0001, 0.001, 0.01, 0.1, 1, 10, 100, 1000]\n",
    "#class_weight = [{1:0.5, 0:0.5}, {1:0.4, 0:0.6}, {1:0.6, 0:0.4}, {1:0.7, 0:0.3}]\n",
    "solver = ['liblinear', 'saga']\n",
    "\n",
    "param_grid = dict(penalty=penalty,\n",
    "                  C=C,\n",
    "                  #class_weight=class_weight,\n",
    "                  solver=solver)"
   ]
  },
  {
   "cell_type": "code",
   "execution_count": 127,
   "metadata": {},
   "outputs": [
    {
     "name": "stdout",
     "output_type": "stream",
     "text": [
      "Fitting 5 folds for each of 32 candidates, totalling 160 fits\n"
     ]
    },
    {
     "name": "stderr",
     "output_type": "stream",
     "text": [
      "[Parallel(n_jobs=4)]: Using backend LokyBackend with 4 concurrent workers.\n",
      "[Parallel(n_jobs=4)]: Done  40 tasks      | elapsed:    1.6s\n"
     ]
    },
    {
     "name": "stdout",
     "output_type": "stream",
     "text": [
      "Grid best score (AUC):  0.8437013818923059\n",
      "Grid best parameter (max. AUC):  {'C': 0.1, 'penalty': 'l1', 'solver': 'liblinear'}\n"
     ]
    },
    {
     "name": "stderr",
     "output_type": "stream",
     "text": [
      "[Parallel(n_jobs=4)]: Done 160 out of 160 | elapsed:   25.6s finished\n",
      "C:\\Users\\m019775\\AppData\\Local\\Continuum\\anaconda3\\lib\\site-packages\\sklearn\\model_selection\\_search.py:841: DeprecationWarning: The default of the `iid` parameter will change from True to False in version 0.22 and will be removed in 0.24. This will change numeric results when test-set sizes are unequal.\n",
      "  DeprecationWarning)\n"
     ]
    }
   ],
   "source": [
    "model = GridSearchCV(estimator=clf, param_grid=param_grid, scoring='roc_auc', n_jobs=4, cv=skf.split(X_train,y_train), verbose=3)\n",
    "\n",
    "# Here we go\n",
    "#start_time = timer(None) # timing starts from this point for \"start_time\" variable\n",
    "model.fit(X_train, y_train)\n",
    "#timer(start_time) # timing ends here for \"start_time\" variable\n",
    "best_model = best_mdl()"
   ]
  },
  {
   "cell_type": "markdown",
   "metadata": {},
   "source": [
    "### XGBoost : Hyperparameter Tuning and Visualization"
   ]
  },
  {
   "cell_type": "code",
   "execution_count": 188,
   "metadata": {},
   "outputs": [],
   "source": [
    "# A parameter grid for XGBClassifier\n",
    "from sklearn.model_selection import GridSearchCV\n",
    "from xgboost import XGBClassifier\n",
    "clf = XGBClassifier()\n",
    "# A parameter grid for XGBoost\n",
    "param_grid = {\n",
    "        'min_child_weight': [1, 5, 10],\n",
    "        'gamma': [0.5, 1, 1.5, 2, 5],\n",
    "        'subsample': [0.6, 0.8, 1.0],\n",
    "        'colsample_bytree': [0.6, 0.8, 1.0],\n",
    "        'max_depth': [3, 4, 5]\n",
    "        }"
   ]
  },
  {
   "cell_type": "code",
   "execution_count": 189,
   "metadata": {},
   "outputs": [
    {
     "name": "stdout",
     "output_type": "stream",
     "text": [
      "Fitting 5 folds for each of 405 candidates, totalling 2025 fits\n"
     ]
    },
    {
     "name": "stderr",
     "output_type": "stream",
     "text": [
      "[Parallel(n_jobs=4)]: Using backend LokyBackend with 4 concurrent workers.\n",
      "[Parallel(n_jobs=4)]: Done  24 tasks      | elapsed:    8.3s\n",
      "[Parallel(n_jobs=4)]: Done 120 tasks      | elapsed:   19.1s\n",
      "[Parallel(n_jobs=4)]: Done 280 tasks      | elapsed:   39.7s\n",
      "[Parallel(n_jobs=4)]: Done 504 tasks      | elapsed:  1.1min\n",
      "[Parallel(n_jobs=4)]: Done 792 tasks      | elapsed:  1.7min\n",
      "[Parallel(n_jobs=4)]: Done 1144 tasks      | elapsed:  2.4min\n",
      "[Parallel(n_jobs=4)]: Done 1560 tasks      | elapsed:  3.4min\n",
      "[Parallel(n_jobs=4)]: Done 2025 out of 2025 | elapsed:  4.6min finished\n"
     ]
    },
    {
     "data": {
      "text/plain": [
       "GridSearchCV(cv=<generator object _BaseKFold.split at 0x000000000BA0AD68>,\n",
       "       error_score='raise-deprecating',\n",
       "       estimator=XGBClassifier(base_score=0.5, booster='gbtree', colsample_bylevel=1,\n",
       "       colsample_bytree=1, gamma=0, learning_rate=0.1, max_delta_step=0,\n",
       "       max_depth=3, min_child_weight=1, missing=None, n_estimators=100,\n",
       "       n_jobs=1, nthread=None, objective='binary:logistic', random_state=0,\n",
       "       reg_alpha=0, reg_lambda=1, scale_pos_weight=1, seed=None,\n",
       "       silent=True, subsample=1),\n",
       "       fit_params=None, iid='warn', n_jobs=4,\n",
       "       param_grid={'min_child_weight': [1, 5, 10], 'gamma': [0.5, 1, 1.5, 2, 5], 'subsample': [0.6, 0.8, 1.0], 'colsample_bytree': [0.6, 0.8, 1.0], 'max_depth': [3, 4, 5]},\n",
       "       pre_dispatch='2*n_jobs', refit=True, return_train_score='warn',\n",
       "       scoring='roc_auc', verbose=3)"
      ]
     },
     "execution_count": 189,
     "metadata": {},
     "output_type": "execute_result"
    }
   ],
   "source": [
    "model = GridSearchCV(estimator=clf, param_grid=param_grid, scoring='roc_auc', n_jobs=4, cv=skf.split(X_train,y_train), verbose=3)\n",
    "\n",
    "# Here we go\n",
    "#start_time = timer(None) # timing starts from this point for \"start_time\" variable\n",
    "model.fit(X_train, y_train)\n",
    "#timer(start_time) # timing ends here for \"start_time\" variable\n",
    "best_model = best_mdl()"
   ]
  },
  {
   "cell_type": "markdown",
   "metadata": {},
   "source": [
    "### Gradient Boosting Classifier : Hyperparameter Tuning and Visualization "
   ]
  },
  {
   "cell_type": "code",
   "execution_count": 222,
   "metadata": {},
   "outputs": [],
   "source": [
    "# A parameter grid for XGBClassifier\n",
    "from sklearn.model_selection import GridSearchCV\n",
    "from sklearn.ensemble import GradientBoostingClassifier\n",
    "clf = GradientBoostingClassifier(max_depth=3, min_samples_split=2, min_samples_leaf=1, subsample=1,max_features='sqrt', random_state=10)\n",
    "# A parameter grid for GradientBoostingClassifier\n",
    "param_grid = {'learning_rate':[0.15,0.1,0.05,0.01,0.005,0.001], 'n_estimators':[100,250,500,750,1000,1250,1500,1750]}"
   ]
  },
  {
   "cell_type": "code",
   "execution_count": null,
   "metadata": {},
   "outputs": [
    {
     "name": "stdout",
     "output_type": "stream",
     "text": [
      "Fitting 5 folds for each of 48 candidates, totalling 240 fits\n"
     ]
    },
    {
     "name": "stderr",
     "output_type": "stream",
     "text": [
      "[Parallel(n_jobs=4)]: Using backend LokyBackend with 4 concurrent workers.\n",
      "[Parallel(n_jobs=4)]: Done  24 tasks      | elapsed:   11.5s\n"
     ]
    }
   ],
   "source": [
    "model = GridSearchCV(estimator=clf, param_grid=param_grid, scoring='roc_auc', n_jobs=4, cv=skf.split(X_train,y_train), verbose=3)\n",
    "\n",
    "# Here we go\n",
    "#start_time = timer(None) # timing starts from this point for \"start_time\" variable\n",
    "model.fit(X_train, y_train)\n",
    "#timer(start_time) # timing ends here for \"start_time\" variable\n",
    "best_model = best_mdl()"
   ]
  },
  {
   "cell_type": "markdown",
   "metadata": {},
   "source": [
    "### Random Forest : Hyperparameter Tuning and Visualization "
   ]
  },
  {
   "cell_type": "code",
   "execution_count": null,
   "metadata": {},
   "outputs": [],
   "source": [
    "# A parameter grid for XGBClassifier\n",
    "from sklearn.model_selection import GridSearchCV\n",
    "from xgboost import GradientBoostingClassifier\n",
    "clf = RandomForestClassifier()\n",
    "# A parameter grid for GradientBoostingClassifier\n",
    "param_grid = {'bootstrap': [True, False],\n",
    " 'max_depth': [10, 20, 30, 40, 50, 60, 70, 80, 90, 100, None],\n",
    " 'max_features': ['auto', 'sqrt'],\n",
    " 'min_samples_leaf': [1, 2, 4],\n",
    " 'min_samples_split': [2, 5, 10],\n",
    " 'n_estimators': [200, 400, 600, 800, 1000, 1200, 1400, 1600, 1800, 2000]}"
   ]
  },
  {
   "cell_type": "code",
   "execution_count": null,
   "metadata": {},
   "outputs": [],
   "source": [
    "model = GridSearchCV(estimator=clf, param_grid=param_grid, scoring='roc_auc', n_jobs=4, cv=skf.split(X_train,y_train), verbose=3)\n",
    "\n",
    "# Here we go\n",
    "#start_time = timer(None) # timing starts from this point for \"start_time\" variable\n",
    "model.fit(X_train, y_train)\n",
    "#timer(start_time) # timing ends here for \"start_time\" variable\n",
    "best_model = best_mdl()"
   ]
  },
  {
   "cell_type": "markdown",
   "metadata": {},
   "source": [
    "### AUC, confusion matrix "
   ]
  },
  {
   "cell_type": "code",
   "execution_count": 58,
   "metadata": {},
   "outputs": [
    {
     "ename": "NameError",
     "evalue": "name 'best_model' is not defined",
     "output_type": "error",
     "traceback": [
      "\u001b[1;31m---------------------------------------------------------------------------\u001b[0m",
      "\u001b[1;31mNameError\u001b[0m                                 Traceback (most recent call last)",
      "\u001b[1;32m<ipython-input-58-f15c95e39c1a>\u001b[0m in \u001b[0;36m<module>\u001b[1;34m\u001b[0m\n\u001b[1;32m----> 1\u001b[1;33m \u001b[0my_predicted_test\u001b[0m  \u001b[1;33m=\u001b[0m \u001b[0mbest_model\u001b[0m\u001b[1;33m.\u001b[0m\u001b[0mpredict\u001b[0m\u001b[1;33m(\u001b[0m\u001b[0mX_test\u001b[0m\u001b[1;33m)\u001b[0m\u001b[1;33m\u001b[0m\u001b[1;33m\u001b[0m\u001b[0m\n\u001b[0m\u001b[0;32m      2\u001b[0m \u001b[0my_probabilities_test\u001b[0m \u001b[1;33m=\u001b[0m \u001b[0mbest_model\u001b[0m\u001b[1;33m.\u001b[0m\u001b[0mpredict_proba\u001b[0m\u001b[1;33m(\u001b[0m\u001b[0mX_test\u001b[0m\u001b[1;33m)\u001b[0m\u001b[1;33m\u001b[0m\u001b[1;33m\u001b[0m\u001b[0m\n\u001b[0;32m      3\u001b[0m \u001b[0my_probabilities_success\u001b[0m \u001b[1;33m=\u001b[0m \u001b[0my_probabilities_test\u001b[0m\u001b[1;33m[\u001b[0m\u001b[1;33m:\u001b[0m\u001b[1;33m,\u001b[0m \u001b[1;36m1\u001b[0m\u001b[1;33m]\u001b[0m\u001b[1;33m\u001b[0m\u001b[1;33m\u001b[0m\u001b[0m\n\u001b[0;32m      4\u001b[0m \u001b[1;33m\u001b[0m\u001b[0m\n\u001b[0;32m      5\u001b[0m \u001b[1;32mfrom\u001b[0m \u001b[0msklearn\u001b[0m\u001b[1;33m.\u001b[0m\u001b[0mmetrics\u001b[0m \u001b[1;32mimport\u001b[0m \u001b[0maverage_precision_score\u001b[0m\u001b[1;33m\u001b[0m\u001b[1;33m\u001b[0m\u001b[0m\n",
      "\u001b[1;31mNameError\u001b[0m: name 'best_model' is not defined"
     ]
    }
   ],
   "source": [
    "y_predicted_test  = best_model.predict(X_test)\n",
    "y_probabilities_test = best_model.predict_proba(X_test)\n",
    "y_probabilities_success = y_probabilities_test[:, 1]\n",
    "\n",
    "from sklearn.metrics import average_precision_score\n",
    "average_precision = average_precision_score(y_test, y_probabilities_success)\n",
    "print('Average precision-recall score: {0:0.2f}'.format(average_precision))\n",
    "\n",
    "false_positive_rate, true_positive_rate, threshold = roc_curve(y_test, y_probabilities_success)\n",
    "\n",
    "mse        = mean_squared_error(y_test, y_predicted_test)\n",
    "logloss    = log_loss(y_test, y_predicted_test)\n",
    "accuracy   = accuracy_score(y_test, y_predicted_test)\n",
    "precision  = precision_score(y_test, y_predicted_test, average='binary')\n",
    "recall     = recall_score(y_test, y_predicted_test, average='binary')\n",
    "F1         = f1_score(y_test, y_predicted_test)\n",
    "r2         = r2_score(y_test, y_predicted_test)\n",
    "auc        = roc_auc_score(y_test, y_predicted_test)\n",
    "cm         = confusion_matrix(y_test, y_predicted_test)"
   ]
  },
  {
   "cell_type": "code",
   "execution_count": 195,
   "metadata": {},
   "outputs": [
    {
     "name": "stdout",
     "output_type": "stream",
     "text": [
      "\n",
      " Best estimator:\n",
      "XGBClassifier(base_score=0.5, booster='gbtree', colsample_bylevel=1,\n",
      "       colsample_bytree=0.6, gamma=5, learning_rate=0.1, max_delta_step=0,\n",
      "       max_depth=4, min_child_weight=1, missing=None, n_estimators=100,\n",
      "       n_jobs=1, nthread=None, objective='binary:logistic', random_state=0,\n",
      "       reg_alpha=0, reg_lambda=1, scale_pos_weight=1, seed=None,\n",
      "       silent=True, subsample=0.6)\n",
      "\n",
      " Best score:\n",
      "0.7214080452209861\n",
      "\n",
      " Best parameters:\n",
      "{'colsample_bytree': 0.6, 'gamma': 5, 'max_depth': 4, 'min_child_weight': 1, 'subsample': 0.6}\n",
      "\n",
      " CV results:\n",
      "   mean_fit_time  std_fit_time  mean_score_time  std_score_time  \\\n",
      "0       0.380422      0.032514           0.0048        0.001721   \n",
      "1       0.378822      0.020538           0.0036        0.000490   \n",
      "2       0.374221      0.010323           0.0038        0.001166   \n",
      "3       0.356821      0.006369           0.0034        0.000490   \n",
      "4       0.368821      0.026166           0.0044        0.001855   \n",
      "\n",
      "  param_colsample_bytree param_gamma param_max_depth param_min_child_weight  \\\n",
      "0                    0.6         0.5               3                      1   \n",
      "1                    0.6         0.5               3                      1   \n",
      "2                    0.6         0.5               3                      1   \n",
      "3                    0.6         0.5               3                      5   \n",
      "4                    0.6         0.5               3                      5   \n",
      "\n",
      "  param_subsample                                             params  \\\n",
      "0             0.6  {'colsample_bytree': 0.6, 'gamma': 0.5, 'max_d...   \n",
      "1             0.8  {'colsample_bytree': 0.6, 'gamma': 0.5, 'max_d...   \n",
      "2               1  {'colsample_bytree': 0.6, 'gamma': 0.5, 'max_d...   \n",
      "3             0.6  {'colsample_bytree': 0.6, 'gamma': 0.5, 'max_d...   \n",
      "4             0.8  {'colsample_bytree': 0.6, 'gamma': 0.5, 'max_d...   \n",
      "\n",
      "        ...         mean_test_score  std_test_score  rank_test_score  \\\n",
      "0       ...                0.850648        0.027185               55   \n",
      "1       ...                0.845940        0.036651              146   \n",
      "2       ...                0.849754        0.043569               70   \n",
      "3       ...                0.842826        0.031534              253   \n",
      "4       ...                0.845642        0.034520              153   \n",
      "\n",
      "   split0_train_score  split1_train_score  split2_train_score  \\\n",
      "0            0.983963            0.987456            0.984422   \n",
      "1            0.986074            0.989223            0.986458   \n",
      "2            0.985022            0.987153            0.986897   \n",
      "3            0.964298            0.962612            0.962565   \n",
      "4            0.970529            0.973969            0.970212   \n",
      "\n",
      "   split3_train_score  split4_train_score  mean_train_score  std_train_score  \n",
      "0            0.984381            0.985017          0.985048         0.001250  \n",
      "1            0.988515            0.984442          0.986942         0.001727  \n",
      "2            0.983329            0.985231          0.985526         0.001392  \n",
      "3            0.964878            0.957999          0.962470         0.002415  \n",
      "4            0.972795            0.968663          0.971234         0.001901  \n",
      "\n",
      "[5 rows x 25 columns]\n",
      "╒════════════════════════╤════════════╕\n",
      "│ Metric                 │       Test │\n",
      "╞════════════════════════╪════════════╡\n",
      "│ accuracy               │  0.808696  │\n",
      "├────────────────────────┼────────────┤\n",
      "│ precision              │  0.862069  │\n",
      "├────────────────────────┼────────────┤\n",
      "│ recall                 │  0.287356  │\n",
      "├────────────────────────┼────────────┤\n",
      "│ misclassification rate │  0.191304  │\n",
      "├────────────────────────┼────────────┤\n",
      "│ F1                     │  0.431034  │\n",
      "├────────────────────────┼────────────┤\n",
      "│ r2                     │ -0.0144346 │\n",
      "├────────────────────────┼────────────┤\n",
      "│ AUC                    │  0.812741  │\n",
      "├────────────────────────┼────────────┤\n",
      "│ mse                    │  0.191304  │\n",
      "├────────────────────────┼────────────┤\n",
      "│ logloss                │  6.60743   │\n",
      "╘════════════════════════╧════════════╛\n"
     ]
    },
    {
     "data": {
      "image/png": "[encoded data removed]",
      "text/plain": [
       "<Figure size 720x360 with 2 Axes>"
      ]
     },
     "metadata": {
      "needs_background": "light"
     },
     "output_type": "display_data"
    },
    {
     "name": "stdout",
     "output_type": "stream",
     "text": [
      "\n",
      "Classification report:\n",
      "               precision    recall  f1-score   support\n",
      "\n",
      "           0       0.81      0.98      0.89       259\n",
      "           1       0.86      0.29      0.43        86\n",
      "\n",
      "   micro avg       0.81      0.81      0.81       345\n",
      "   macro avg       0.83      0.64      0.66       345\n",
      "weighted avg       0.82      0.81      0.77       345\n",
      "\n",
      "\n",
      "Correct classifications on test data: 280/345   81.159%\n"
     ]
    },
    {
     "ename": "ValueError",
     "evalue": "X has 60 features per sample; expecting 388",
     "output_type": "error",
     "traceback": [
      "\u001b[1;31m---------------------------------------------------------------------------\u001b[0m",
      "\u001b[1;31mValueError\u001b[0m                                Traceback (most recent call last)",
      "\u001b[1;32m<ipython-input-195-2a46d3e07860>\u001b[0m in \u001b[0;36m<module>\u001b[1;34m\u001b[0m\n\u001b[0;32m      2\u001b[0m \u001b[0mPrint_Model_Metrics\u001b[0m\u001b[1;33m(\u001b[0m\u001b[1;33m)\u001b[0m\u001b[1;33m\u001b[0m\u001b[1;33m\u001b[0m\u001b[0m\n\u001b[0;32m      3\u001b[0m \u001b[0mPlot_ROC_Precision_Recall\u001b[0m\u001b[1;33m(\u001b[0m\u001b[1;33m)\u001b[0m\u001b[1;33m\u001b[0m\u001b[1;33m\u001b[0m\u001b[0m\n\u001b[1;32m----> 4\u001b[1;33m \u001b[0mPlot_Confusion_Matrix\u001b[0m\u001b[1;33m(\u001b[0m\u001b[1;33m)\u001b[0m\u001b[1;33m\u001b[0m\u001b[1;33m\u001b[0m\u001b[0m\n\u001b[0m\u001b[0;32m      5\u001b[0m \u001b[0mPlot_Predictor_Importance\u001b[0m\u001b[1;33m(\u001b[0m\u001b[1;32mTrue\u001b[0m\u001b[1;33m)\u001b[0m\u001b[1;33m\u001b[0m\u001b[1;33m\u001b[0m\u001b[0m\n\u001b[0;32m      6\u001b[0m \u001b[1;31m#results_df = pd.DataFrame(data={'Observed':y_test, 'Predicted':y_predicted_test[:,1]})\u001b[0m\u001b[1;33m\u001b[0m\u001b[1;33m\u001b[0m\u001b[1;33m\u001b[0m\u001b[0m\n",
      "\u001b[1;32m<ipython-input-193-a5f0fe73584b>\u001b[0m in \u001b[0;36mPlot_Confusion_Matrix\u001b[1;34m()\u001b[0m\n\u001b[0;32m     30\u001b[0m                                                                                  \u001b[0mntotal\u001b[0m\u001b[1;33m,\u001b[0m\u001b[1;33m\u001b[0m\u001b[1;33m\u001b[0m\u001b[0m\n\u001b[0;32m     31\u001b[0m                                                                                  percent))\n\u001b[1;32m---> 32\u001b[1;33m     \u001b[0mprediction_score\u001b[0m \u001b[1;33m=\u001b[0m \u001b[1;36m100.0\u001b[0m\u001b[1;33m*\u001b[0m\u001b[0mbest_model\u001b[0m\u001b[1;33m.\u001b[0m\u001b[0mscore\u001b[0m\u001b[1;33m(\u001b[0m\u001b[0mX_test\u001b[0m\u001b[1;33m,\u001b[0m \u001b[0my_test\u001b[0m\u001b[1;33m)\u001b[0m\u001b[1;33m\u001b[0m\u001b[1;33m\u001b[0m\u001b[0m\n\u001b[0m\u001b[0;32m     33\u001b[0m     \u001b[1;32massert\u001b[0m \u001b[1;33m(\u001b[0m\u001b[0mround\u001b[0m\u001b[1;33m(\u001b[0m\u001b[0mpercent\u001b[0m\u001b[1;33m,\u001b[0m\u001b[1;36m3\u001b[0m\u001b[1;33m)\u001b[0m \u001b[1;33m==\u001b[0m \u001b[0mround\u001b[0m\u001b[1;33m(\u001b[0m\u001b[0mprediction_score\u001b[0m\u001b[1;33m,\u001b[0m \u001b[1;36m3\u001b[0m\u001b[1;33m)\u001b[0m\u001b[1;33m)\u001b[0m\u001b[1;33m,\u001b[0m \u001b[1;34m\"prediction score does not agree\"\u001b[0m\u001b[1;33m\u001b[0m\u001b[1;33m\u001b[0m\u001b[0m\n",
      "\u001b[1;32m~\\AppData\\Local\\Continuum\\anaconda3\\lib\\site-packages\\sklearn\\base.py\u001b[0m in \u001b[0;36mscore\u001b[1;34m(self, X, y, sample_weight)\u001b[0m\n\u001b[0;32m    286\u001b[0m         \"\"\"\n\u001b[0;32m    287\u001b[0m         \u001b[1;32mfrom\u001b[0m \u001b[1;33m.\u001b[0m\u001b[0mmetrics\u001b[0m \u001b[1;32mimport\u001b[0m \u001b[0maccuracy_score\u001b[0m\u001b[1;33m\u001b[0m\u001b[1;33m\u001b[0m\u001b[0m\n\u001b[1;32m--> 288\u001b[1;33m         \u001b[1;32mreturn\u001b[0m \u001b[0maccuracy_score\u001b[0m\u001b[1;33m(\u001b[0m\u001b[0my\u001b[0m\u001b[1;33m,\u001b[0m \u001b[0mself\u001b[0m\u001b[1;33m.\u001b[0m\u001b[0mpredict\u001b[0m\u001b[1;33m(\u001b[0m\u001b[0mX\u001b[0m\u001b[1;33m)\u001b[0m\u001b[1;33m,\u001b[0m \u001b[0msample_weight\u001b[0m\u001b[1;33m=\u001b[0m\u001b[0msample_weight\u001b[0m\u001b[1;33m)\u001b[0m\u001b[1;33m\u001b[0m\u001b[1;33m\u001b[0m\u001b[0m\n\u001b[0m\u001b[0;32m    289\u001b[0m \u001b[1;33m\u001b[0m\u001b[0m\n\u001b[0;32m    290\u001b[0m \u001b[1;33m\u001b[0m\u001b[0m\n",
      "\u001b[1;32m~\\AppData\\Local\\Continuum\\anaconda3\\lib\\site-packages\\sklearn\\linear_model\\base.py\u001b[0m in \u001b[0;36mpredict\u001b[1;34m(self, X)\u001b[0m\n\u001b[0;32m    279\u001b[0m             \u001b[0mPredicted\u001b[0m \u001b[1;32mclass\u001b[0m \u001b[0mlabel\u001b[0m \u001b[0mper\u001b[0m \u001b[0msample\u001b[0m\u001b[1;33m.\u001b[0m\u001b[1;33m\u001b[0m\u001b[1;33m\u001b[0m\u001b[0m\n\u001b[0;32m    280\u001b[0m         \"\"\"\n\u001b[1;32m--> 281\u001b[1;33m         \u001b[0mscores\u001b[0m \u001b[1;33m=\u001b[0m \u001b[0mself\u001b[0m\u001b[1;33m.\u001b[0m\u001b[0mdecision_function\u001b[0m\u001b[1;33m(\u001b[0m\u001b[0mX\u001b[0m\u001b[1;33m)\u001b[0m\u001b[1;33m\u001b[0m\u001b[1;33m\u001b[0m\u001b[0m\n\u001b[0m\u001b[0;32m    282\u001b[0m         \u001b[1;32mif\u001b[0m \u001b[0mlen\u001b[0m\u001b[1;33m(\u001b[0m\u001b[0mscores\u001b[0m\u001b[1;33m.\u001b[0m\u001b[0mshape\u001b[0m\u001b[1;33m)\u001b[0m \u001b[1;33m==\u001b[0m \u001b[1;36m1\u001b[0m\u001b[1;33m:\u001b[0m\u001b[1;33m\u001b[0m\u001b[1;33m\u001b[0m\u001b[0m\n\u001b[0;32m    283\u001b[0m             \u001b[0mindices\u001b[0m \u001b[1;33m=\u001b[0m \u001b[1;33m(\u001b[0m\u001b[0mscores\u001b[0m \u001b[1;33m>\u001b[0m \u001b[1;36m0\u001b[0m\u001b[1;33m)\u001b[0m\u001b[1;33m.\u001b[0m\u001b[0mastype\u001b[0m\u001b[1;33m(\u001b[0m\u001b[0mnp\u001b[0m\u001b[1;33m.\u001b[0m\u001b[0mint\u001b[0m\u001b[1;33m)\u001b[0m\u001b[1;33m\u001b[0m\u001b[1;33m\u001b[0m\u001b[0m\n",
      "\u001b[1;32m~\\AppData\\Local\\Continuum\\anaconda3\\lib\\site-packages\\sklearn\\linear_model\\base.py\u001b[0m in \u001b[0;36mdecision_function\u001b[1;34m(self, X)\u001b[0m\n\u001b[0;32m    260\u001b[0m         \u001b[1;32mif\u001b[0m \u001b[0mX\u001b[0m\u001b[1;33m.\u001b[0m\u001b[0mshape\u001b[0m\u001b[1;33m[\u001b[0m\u001b[1;36m1\u001b[0m\u001b[1;33m]\u001b[0m \u001b[1;33m!=\u001b[0m \u001b[0mn_features\u001b[0m\u001b[1;33m:\u001b[0m\u001b[1;33m\u001b[0m\u001b[1;33m\u001b[0m\u001b[0m\n\u001b[0;32m    261\u001b[0m             raise ValueError(\"X has %d features per sample; expecting %d\"\n\u001b[1;32m--> 262\u001b[1;33m                              % (X.shape[1], n_features))\n\u001b[0m\u001b[0;32m    263\u001b[0m \u001b[1;33m\u001b[0m\u001b[0m\n\u001b[0;32m    264\u001b[0m         scores = safe_sparse_dot(X, self.coef_.T,\n",
      "\u001b[1;31mValueError\u001b[0m: X has 60 features per sample; expecting 388"
     ]
    },
    {
     "data": {
      "image/png": "[encoded data removed]",
      "text/plain": [
       "<Figure size 432x288 with 2 Axes>"
      ]
     },
     "metadata": {
      "needs_background": "light"
     },
     "output_type": "display_data"
    }
   ],
   "source": [
    "best_model = best_mdl()\n",
    "Print_Model_Metrics()\n",
    "Plot_ROC_Precision_Recall()\n",
    "Plot_Confusion_Matrix()\n",
    "Plot_Predictor_Importance(True)\n",
    "#results_df = pd.DataFrame(data={'Observed':y_test, 'Predicted':y_predicted_test[:,1]})\n",
    "#results_df.to_csv('grid-search--outcome.csv', index=False)"
   ]
  }
 ],
 "metadata": {
  "coursera": {
   "course_slug": "python-machine-learning",
   "graded_item_id": "eWYHL",
   "launcher_item_id": "BAqef",
   "part_id": "fXXRp"
  },
  "kernelspec": {
   "display_name": "Python 3",
   "language": "python",
   "name": "python3"
  },
  "language_info": {
   "codemirror_mode": {
    "name": "ipython",
    "version": 3
   },
   "file_extension": ".py",
   "mimetype": "text/x-python",
   "name": "python",
   "nbconvert_exporter": "python",
   "pygments_lexer": "ipython3",
   "version": "3.7.1"
  }
 },
 "nbformat": 4,
 "nbformat_minor": 2
}
